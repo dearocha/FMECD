{
 "cells": [
  {
   "cell_type": "markdown",
   "metadata": {
    "slideshow": {
     "slide_type": "slide"
    }
   },
   "source": [
    "# Visualização Gráfica de Dados\n",
    "## A biblioteca *seaborn*"
   ]
  },
  {
   "cell_type": "markdown",
   "metadata": {
    "slideshow": {
     "slide_type": "slide"
    }
   },
   "source": [
    "A biblioteca *seaborn* foi construída em cima do *matplotlib* e fornece essencialmente duas coisas:\n",
    " * estilo aos gráficos, o que os torna tipicamente muito mais bonitos visualmente;\n",
    " * \"agrupa\" diversos comandos gráficos do *matplotlib* dentro de um único comando, o que tipicamente torna simples a realização de gráficos com bastante elementos."
   ]
  },
  {
   "cell_type": "markdown",
   "metadata": {
    "slideshow": {
     "slide_type": "slide"
    }
   },
   "source": [
    "Vamos começar importando as bibliotecas que utilizaremos:"
   ]
  },
  {
   "cell_type": "code",
   "execution_count": null,
   "metadata": {},
   "outputs": [],
   "source": [
    "import numpy as np\n",
    "import pandas as pd\n",
    "import matplotlib.pyplot as plt\n",
    "import seaborn as sns"
   ]
  },
  {
   "cell_type": "markdown",
   "metadata": {
    "slideshow": {
     "slide_type": "slide"
    }
   },
   "source": [
    "Vamos construir e importar os *DataFrames* que utilizaremos:"
   ]
  },
  {
   "cell_type": "code",
   "execution_count": null,
   "metadata": {},
   "outputs": [],
   "source": [
    "serie_Idade = pd.Series({'Ana':20, 'João': 19, 'Maria': 21, 'Pedro': 22, 'Túlio': 20}, name=\"Idade\")\n",
    "serie_Peso = pd.Series({'Ana':55, 'João': 80, 'Maria': 62, 'Pedro': 67, 'Túlio': 73}, name=\"Peso\")\n",
    "serie_Altura = pd.Series({'Ana':162, 'João': 178, 'Maria': 162, 'Pedro': 165, 'Túlio': 171}, name=\"Altura\")"
   ]
  },
  {
   "cell_type": "code",
   "execution_count": null,
   "metadata": {},
   "outputs": [],
   "source": [
    "dicionario_series_exemplo = {'Idade': serie_Idade, 'Peso': serie_Peso, 'Altura': serie_Altura}"
   ]
  },
  {
   "cell_type": "code",
   "execution_count": null,
   "metadata": {},
   "outputs": [],
   "source": [
    "df_dict_series = pd.DataFrame(dicionario_series_exemplo);df_dict_series"
   ]
  },
  {
   "cell_type": "code",
   "execution_count": null,
   "metadata": {
    "slideshow": {
     "slide_type": "slide"
    }
   },
   "outputs": [],
   "source": [
    "df_exemplo = pd.read_csv('exemplo_data.csv', index_col=0)\n",
    "df_exemplo['coluna_3'] = pd.Series([1,2,3,4,5,6,7,8,np.nan,np.nan],index=df_exemplo.index)\n",
    "df_exemplo.index = pd.to_datetime(df_exemplo.index)\n",
    "df_exemplo"
   ]
  },
  {
   "cell_type": "code",
   "execution_count": null,
   "metadata": {
    "slideshow": {
     "slide_type": "slide"
    }
   },
   "outputs": [],
   "source": [
    "covid_PB = pd.read_csv('https://superset.plataformatarget.com.br/superset/explore_json/?form_data=%7B%22slice_id%22%3A1550%7D&csv=true', \n",
    "                             sep=';', index_col=0)\n",
    "covid_PB.head()"
   ]
  },
  {
   "cell_type": "code",
   "execution_count": null,
   "metadata": {
    "slideshow": {
     "slide_type": "slide"
    }
   },
   "outputs": [],
   "source": [
    "covid_BR = pd.read_csv('HIST_PAINEL_COVIDBR_25jul2020.csv', low_memory=False)\n",
    "covid_BR.head()"
   ]
  },
  {
   "cell_type": "markdown",
   "metadata": {
    "slideshow": {
     "slide_type": "slide"
    }
   },
   "source": [
    "## Gráficos de Linha e de Dispersão\n",
    "\n",
    "* Os gráficos de linha e de dispersão podem ser realizados no *seaborn* com a função **relplot**.\n",
    " * Para fazer um gráfico de linha escolhemos *kind = \"line\"*;\n",
    " * O gráfico de dispersão é o padrão (*kind  = \"scatter\"*).\n",
    "\n",
    "* Alternativamente podemos utilizar as funções **lineplot** e **scatterplot**. Porém, **lineplot** e **scatterplot** são apenas eixos e se comportam essencialmente como o *matplotlib* ao passo que **relplot** tem diversos elementos da construção de uma figura no *matplotlib* já pré-configurados (isto é chamado no *seaborn* de *figure-level plot*)."
   ]
  },
  {
   "cell_type": "markdown",
   "metadata": {
    "slideshow": {
     "slide_type": "slide"
    }
   },
   "source": [
    "Inicialmente vamos ilustrar com a função **lineplot** que, como dito, se comporta bastante com as funções do *matplotlib.pyplot*."
   ]
  },
  {
   "cell_type": "code",
   "execution_count": null,
   "metadata": {
    "slideshow": {
     "slide_type": "-"
    }
   },
   "outputs": [],
   "source": [
    "fig, ax = plt.subplots()\n",
    "ax = sns.lineplot(x=\"index\", y=\"coluna_1\", data=df_exemplo.reset_index(), label = 'Coluna 1')\n",
    "ax = sns.lineplot(x=\"index\", y=\"coluna_2\", data=df_exemplo.reset_index(), ax = ax, label = 'Coluna 2')\n",
    "ax = sns.lineplot(x=\"index\", y=\"coluna_3\", data=df_exemplo.reset_index(), ax = ax, label = 'Coluna 3')\n",
    "ax.set_xlabel('Data')\n",
    "ax.set_ylabel('Valor')\n",
    "fig.autofmt_xdate()"
   ]
  },
  {
   "cell_type": "markdown",
   "metadata": {
    "slideshow": {
     "slide_type": "slide"
    }
   },
   "source": [
    "Para utilizar a função **relplot** precisaremos preparar o banco de dados no mesmo estilo do *plotly.express*:"
   ]
  },
  {
   "cell_type": "code",
   "execution_count": null,
   "metadata": {},
   "outputs": [],
   "source": [
    "df_exemplo_px = pd.DataFrame(df_exemplo['coluna_1']).rename({'coluna_1':'Valor'}, axis=1)\n",
    "df_exemplo_px['Coluna'] = 'Coluna 1' \n",
    "df_exemplo_px_temp = pd.DataFrame(df_exemplo['coluna_2']).rename({'coluna_2':'Valor'}, axis=1)\n",
    "df_exemplo_px_temp['Coluna'] = 'Coluna 2'\n",
    "df_exemplo_px = pd.concat([df_exemplo_px, df_exemplo_px_temp])\n",
    "df_exemplo_px_temp = pd.DataFrame(df_exemplo['coluna_3']).rename({'coluna_3':'Valor'}, axis=1)\n",
    "df_exemplo_px_temp['Coluna'] = 'Coluna 3'\n",
    "df_exemplo_px = pd.concat([df_exemplo_px, df_exemplo_px_temp])\n",
    "df_exemplo_px.head()"
   ]
  },
  {
   "cell_type": "code",
   "execution_count": null,
   "metadata": {
    "slideshow": {
     "slide_type": "slide"
    }
   },
   "outputs": [],
   "source": [
    "grafico = sns.relplot(x = 'index', y='Valor', hue = 'Coluna', data=df_exemplo_px.reset_index().dropna(), kind='line')\n",
    "grafico.fig.autofmt_xdate()\n",
    "grafico.ax.set_xlabel('Data')\n",
    "grafico.fig.set_size_inches(10,5.5)"
   ]
  },
  {
   "cell_type": "markdown",
   "metadata": {
    "slideshow": {
     "slide_type": "slide"
    }
   },
   "source": [
    "Vamos agora fazer o gráfico de óbitos por COVID-19 na Paraíba juntamente com a média aritmética móvel de 7 dias e com a média geométrica móvel de 7 dias.\n",
    "\n",
    "* A média aritmética tem a desvantagem de linearizar o efeito do crescimento ou decrescimento do número de óbitos, onde sabemos que o efeito é exponencial.\n",
    "* A média geométrica móvel tem a desvantagem de dar zero se o número de óbitos em algum dos dias da janela for zero.\n",
    "* Em geral as duas médias ficam muito próximas.\n",
    "\n",
    "Utilizaremos o método *rolling* de uma *Serie* ou *DataFrame* do *pandas*. Este método cria janelas móveis onde podemos aplicar uma função agregadora (tal como média ou média geométrica)."
   ]
  },
  {
   "cell_type": "code",
   "execution_count": null,
   "metadata": {
    "slideshow": {
     "slide_type": "slide"
    }
   },
   "outputs": [],
   "source": [
    "from scipy.stats import gmean # Obtendo a função que calcula média geométrica do scipy\n",
    "\n",
    "covid_PB_obitos = covid_PB.obitosNovos\n",
    "covid_PB_obitos = covid_PB_obitos.sort_index()\n",
    "covid_PB_obitos.name = 'Óbitos'\n",
    "covid_PB_obitos_df = pd.DataFrame(covid_PB_obitos)\n",
    "covid_PB_obitos_df['Tipo'] = 'Valor Nominal'\n",
    "covid_PB_obitos_df_temp = pd.DataFrame(covid_PB_obitos.rolling(7).mean().dropna())\n",
    "covid_PB_obitos_df_temp['Tipo'] = 'Média Aritmética Móvel 7 Dias'\n",
    "covid_PB_obitos_df = pd.concat([covid_PB_obitos_df, covid_PB_obitos_df_temp])\n",
    "covid_PB_obitos_df_temp = pd.DataFrame(covid_PB_obitos.rolling(7).aggregate(gmean).dropna())\n",
    "covid_PB_obitos_df_temp['Tipo'] = 'Média Geométrica Móvel 7 Dias'\n",
    "covid_PB_obitos_df = pd.concat([covid_PB_obitos_df, covid_PB_obitos_df_temp])\n",
    "covid_PB_obitos_df.index = pd.to_datetime(covid_PB_obitos_df.index)\n",
    "covid_PB_obitos_df.tail()"
   ]
  },
  {
   "cell_type": "code",
   "execution_count": null,
   "metadata": {
    "slideshow": {
     "slide_type": "slide"
    }
   },
   "outputs": [],
   "source": [
    "grafico = sns.relplot(x = 'data', y='Óbitos', hue = 'Tipo', data=covid_PB_obitos_df.reset_index(), kind='line')\n",
    "grafico.fig.autofmt_xdate()\n",
    "grafico.ax.set_xlabel(''); grafico.fig.set_size_inches(17,8)"
   ]
  },
  {
   "cell_type": "markdown",
   "metadata": {
    "slideshow": {
     "slide_type": "slide"
    }
   },
   "source": [
    "* Vamos agora construir um gráfico de dispersão com o conjunto de dados *df_exemplo_px*:"
   ]
  },
  {
   "cell_type": "code",
   "execution_count": null,
   "metadata": {},
   "outputs": [],
   "source": [
    "grafico = sns.relplot(x = 'index', y='Valor', hue = 'Coluna', data=df_exemplo_px.reset_index().dropna())\n",
    "grafico.fig.autofmt_xdate()\n",
    "grafico.ax.set_xlabel(''); grafico.fig.set_size_inches(10,7)"
   ]
  },
  {
   "cell_type": "markdown",
   "metadata": {
    "slideshow": {
     "slide_type": "slide"
    }
   },
   "source": [
    "Infelizmente o *seaborn* apresenta este problema com datas e a origem do erro não é do *seaborn* em si e sim como o *matplotlib* interpreta datas. Mais detalhes em:\n",
    "https://github.com/mwaskom/seaborn/issues/1641"
   ]
  },
  {
   "cell_type": "markdown",
   "metadata": {
    "slideshow": {
     "slide_type": "slide"
    }
   },
   "source": [
    "Vamos forçar os limites a ficarem dentro do mínimo (menos um dia) e do máximo (mais um dia):"
   ]
  },
  {
   "cell_type": "code",
   "execution_count": null,
   "metadata": {
    "slideshow": {
     "slide_type": "-"
    }
   },
   "outputs": [],
   "source": [
    "grafico = sns.relplot(x = 'index', y='Valor', hue = 'Coluna', data=df_exemplo_px.reset_index().dropna())\n",
    "grafico.ax.set_xlim((df_exemplo_px.reset_index()['index'].min() - pd.DateOffset(days=1)), \n",
    "                    (df_exemplo_px.reset_index()['index'].max() + pd.DateOffset(days=1)))\n",
    "grafico.fig.autofmt_xdate()\n",
    "grafico.ax.set_xlabel(''); grafico.fig.set_size_inches(10,6)"
   ]
  },
  {
   "cell_type": "code",
   "execution_count": null,
   "metadata": {
    "slideshow": {
     "slide_type": "slide"
    }
   },
   "outputs": [],
   "source": [
    "grafico = sns.relplot(x = 'index', y='coluna_1', hue = 'coluna_2', size = 'coluna_3', data=df_exemplo.reset_index().dropna())\n",
    "grafico.ax.set_xlim((df_exemplo.reset_index()['index'].min() - pd.DateOffset(days=1)), \n",
    "                    (df_exemplo.reset_index()['index'].max() + pd.DateOffset(days=1)))\n",
    "grafico.fig.autofmt_xdate()\n",
    "grafico.ax.set_xlabel('')\n",
    "grafico.fig.set_size_inches(10,6)"
   ]
  },
  {
   "cell_type": "code",
   "execution_count": null,
   "metadata": {
    "slideshow": {
     "slide_type": "slide"
    }
   },
   "outputs": [],
   "source": [
    "covid_PB_casos_obitos = covid_PB[['obitosNovos', 'casosNovos']].sort_index()\n",
    "covid_PB_casos_obitos.index = pd.to_datetime(covid_PB_casos_obitos.index)\n",
    "grafico =  sns.relplot(x = 'data', y = 'casosNovos', hue = 'obitosNovos', data=covid_PB_casos_obitos.reset_index())\n",
    "grafico.ax.set_xlim((covid_PB_casos_obitos.reset_index()['data'].min()-pd.DateOffset(days=5)), \n",
    "                    (covid_PB_casos_obitos.reset_index()['data'].max()+ pd.DateOffset(days=5)))\n",
    "grafico.fig.autofmt_xdate()\n",
    "grafico.ax.set_xlabel('')\n",
    "grafico.ax.set_ylabel('Casos COVID-19 em PB')\n",
    "grafico.ax.set_title('Casos e Óbitos de COVID-19 na Paraíba')\n",
    "grafico.fig.set_size_inches(10,6)"
   ]
  },
  {
   "cell_type": "markdown",
   "metadata": {
    "slideshow": {
     "slide_type": "slide"
    }
   },
   "source": [
    "## Gráficos de Dispersão em dados categóricos\n",
    "\n",
    "* Neste caso, podemos ter muitos valores repetidos em uma variável, e os gráficos de dispersão podem não ilustrar efetivamente o comportamento dos dados.\n",
    "\n",
    "* Seria interessante gráficos que considerem a repetição de valores dentro de uma mesma categoria.\n"
   ]
  },
  {
   "cell_type": "markdown",
   "metadata": {
    "slideshow": {
     "slide_type": "slide"
    }
   },
   "source": [
    "## Alternativas aos Gráficos de Dispersão\n",
    "\n",
    "No caso de termos muitas valores repetidos em uma variável, os gráficos de dispersão deixam de ser eficientes para ilustrar o comportamento dos dados.\n",
    "\n",
    "Neste sentido, precisamos de gráficos que considerem a repetição de valores.\n",
    "\n",
    "**Obs:** Isto acontece quando o eixo horizontal contém variáveis categóricas, e assim, teríamos repetição de valores dentro de uma mesma categoria."
   ]
  },
  {
   "cell_type": "markdown",
   "metadata": {
    "slideshow": {
     "slide_type": "slide"
    }
   },
   "source": [
    "Para estes gráficos vamos utilizar os dados de óbitos por COVID-19 no Brasil. Vamos agrupar o número de óbitos por dia da semana."
   ]
  },
  {
   "cell_type": "code",
   "execution_count": null,
   "metadata": {},
   "outputs": [],
   "source": [
    "covid_BR_obitos = covid_BR.query('regiao == \"Brasil\"')[['obitosNovos','data']]\n",
    "\n",
    "covid_BR_obitos.data = pd.to_datetime(covid_BR_obitos.data)\n",
    "covid_BR_obitos['Dia'] = covid_BR_obitos.data.dt.weekday.map({0:'Segunda-Feira',1:'Terça-Feira',2:'Quarta-Feira',\n",
    "                                     3:'Quinta-Feira',4:'Sexta-Feira',5:'Sábado', 6:'Domingo'})\n",
    "covid_BR_obitos = covid_BR_obitos.set_index('data')\n",
    "covid_BR_obitos"
   ]
  },
  {
   "cell_type": "code",
   "execution_count": null,
   "metadata": {
    "slideshow": {
     "slide_type": "slide"
    }
   },
   "outputs": [],
   "source": [
    "grafico = sns.relplot(x='Dia', y='obitosNovos', data=covid_BR_obitos)\n",
    "# Se quisermos determinar a ordem do eixo x o relplot não é a função ideal, além disso devido à sobreposição dos dados, \n",
    "# ela definitivamente não é a ideal para variáveis categóricas.\n",
    "grafico.ax.set_xlabel(''); grafico.fig.set_size_inches(13,7)"
   ]
  },
  {
   "cell_type": "markdown",
   "metadata": {
    "slideshow": {
     "slide_type": "slide"
    }
   },
   "source": [
    "## O gráfico *stripplot*\n",
    "\n",
    "* O *stripplot* é um gráfico de dispersão onde em cada observação é colocado um deslocamento aleatório para evitar a sobreposição e fornecer uma ideia mais precisa da quantidade de dados.\n",
    "\n",
    "* Vamos construir o *stripplot* através da função **catplot**. O *stripplot* é o gráfico padrão do **catplot** (tem o argumento *kind = 'strip'*).\n",
    "\n",
    "* Podemos determinar a ordem das variáveis categóricas com o argumento *order*."
   ]
  },
  {
   "cell_type": "code",
   "execution_count": null,
   "metadata": {
    "slideshow": {
     "slide_type": "slide"
    }
   },
   "outputs": [],
   "source": [
    "grafico = sns.catplot(x='Dia', y='obitosNovos', data=covid_BR_obitos, order = ['Segunda-Feira', 'Terça-Feira',\n",
    "                                                'Quarta-Feira', 'Quinta-Feira', 'Sexta-Feira', 'Sábado', 'Domingo'])\n",
    "grafico.ax.set_xlabel('');grafico.fig.set_size_inches(13,7)"
   ]
  },
  {
   "cell_type": "markdown",
   "metadata": {
    "slideshow": {
     "slide_type": "slide"
    }
   },
   "source": [
    "Se colocarmos *jitter=False* obtemos o gráfico de dispersão usual (com o detalhe de que podemos definir a ordem dos rótulos do eixo *x*)."
   ]
  },
  {
   "cell_type": "code",
   "execution_count": null,
   "metadata": {},
   "outputs": [],
   "source": [
    "grafico = sns.catplot(x='Dia', y='obitosNovos', jitter = False, data=covid_BR_obitos, order = ['Segunda-Feira', 'Terça-Feira',\n",
    "                                                'Quarta-Feira', 'Quinta-Feira', 'Sexta-Feira', 'Sábado', 'Domingo'])\n",
    "grafico.ax.set_xlabel(''); grafico.fig.set_size_inches(13,6)"
   ]
  },
  {
   "cell_type": "markdown",
   "metadata": {
    "slideshow": {
     "slide_type": "slide"
    }
   },
   "source": [
    "## O gráfico *swarmplot*\n",
    "\n",
    "* O *swarmplot* é um gráfico de dispersão onde, diferentemente do *stripplot*, nenhum dado pode ficar sobreposto, desta forma também fornece uma ideia mais precisa da quantidade de dados.\n",
    "\n",
    "* Vamos construir o *swarmplot* através da função **catplot** com o argumento *kind = 'swarm'*.\n",
    "\n",
    "* Como o *swarmplot* também é um tipo do **catplot** podemos determinar a ordem das variáveis categóricas com o argumento *order*."
   ]
  },
  {
   "cell_type": "code",
   "execution_count": null,
   "metadata": {
    "slideshow": {
     "slide_type": "slide"
    }
   },
   "outputs": [],
   "source": [
    "grafico = sns.catplot(x='Dia', y='obitosNovos', kind = 'swarm', data=covid_BR_obitos, order = ['Segunda-Feira', 'Terça-Feira',\n",
    "                                                'Quarta-Feira', 'Quinta-Feira', 'Sexta-Feira', 'Sábado', 'Domingo'])\n",
    "grafico.ax.set_xlabel(''); grafico.fig.set_size_inches(13,7)"
   ]
  },
  {
   "cell_type": "markdown",
   "metadata": {
    "slideshow": {
     "slide_type": "slide"
    }
   },
   "source": [
    "## Gráficos de Barras e Colunas\n",
    "\n",
    "* Para criar gráficos de barras e colunas com o *seaborn* utilizaremos a função **catplot** com o argumento *kind=bar*.\n",
    "\n",
    "* Se a variável categórica estiver no eixo *x* o gráfico será de coluna;\n",
    "* Se a variável categórica estiver no eixo *y* o gráfico será de barra."
   ]
  },
  {
   "cell_type": "code",
   "execution_count": null,
   "metadata": {
    "slideshow": {
     "slide_type": "slide"
    }
   },
   "outputs": [],
   "source": [
    "covid_Regioes = covid_BR[['regiao','obitosNovos']].groupby('regiao').sum().query('regiao != \"Brasil\"')/2\n",
    "\n",
    "grafico = sns.catplot(x='regiao', y='obitosNovos', kind = 'bar',data=covid_Regioes.reset_index())\n",
    "grafico.ax.set_xlabel(''); grafico.fig.set_size_inches(10,6)"
   ]
  },
  {
   "cell_type": "code",
   "execution_count": null,
   "metadata": {
    "slideshow": {
     "slide_type": "slide"
    }
   },
   "outputs": [],
   "source": [
    "covid_Regioes = covid_BR[['regiao','obitosNovos']].groupby('regiao').sum().query('regiao != \"Brasil\"')/2\n",
    "\n",
    "grafico = sns.catplot(x='obitosNovos', y='regiao', kind = 'bar',data=covid_Regioes.reset_index())\n",
    "grafico.ax.set_ylabel('')\n",
    "grafico.fig.set_size_inches(10,6)"
   ]
  },
  {
   "cell_type": "code",
   "execution_count": null,
   "metadata": {
    "slideshow": {
     "slide_type": "slide"
    }
   },
   "outputs": [],
   "source": [
    "df_dict_series_sns = pd.DataFrame(df_dict_series.Idade).rename({'Idade':'Valor'}, axis=1)\n",
    "df_dict_series_sns['Dado'] = 'Idade'\n",
    "df_dict_series_sns_temp = pd.DataFrame(df_dict_series.Altura).rename({'Altura':'Valor'}, axis=1)\n",
    "df_dict_series_sns_temp['Dado'] = 'Altura'\n",
    "df_dict_series_sns = pd.concat([df_dict_series_sns, df_dict_series_sns_temp])\n",
    "df_dict_series_sns_temp = pd.DataFrame(df_dict_series.Peso).rename({'Peso':'Valor'}, axis=1)\n",
    "df_dict_series_sns_temp['Dado'] = 'Peso'\n",
    "df_dict_series_sns = pd.concat([df_dict_series_sns, df_dict_series_sns_temp])\n",
    "df_dict_series_sns"
   ]
  },
  {
   "cell_type": "code",
   "execution_count": null,
   "metadata": {
    "slideshow": {
     "slide_type": "slide"
    }
   },
   "outputs": [],
   "source": [
    "grafico = sns.catplot(x='index', y='Valor', hue='Dado', data = df_dict_series_sns.reset_index(), kind='bar')\n",
    "grafico.ax.set_xlabel(''); grafico.fig.set_size_inches(10,6)"
   ]
  },
  {
   "cell_type": "markdown",
   "metadata": {
    "slideshow": {
     "slide_type": "slide"
    }
   },
   "source": [
    "## BoxPlot e Alternativas\n",
    "\n",
    "* Tanto o *BoxPlot* quanto as alternativas que apresentaremos aqui (*violinplot* e *boxenplot*) fazem parte do **catplot**.\n",
    "* O *boxenplot* foi criado por Hadley Wickham (criador do *ggplot2* e da maioria dos pacotes do *tidyverse* do *R*) e colaboradores e é uma generalização do *BoxPlot* que apresenta mais quantis. Foi introduzido como *letter-value plots*: https://vita.had.co.nz/papers/letter-value-plot.html. \n",
    "* O *violinplot* recebe este nome pois seu gráfico se assemelha a um violino.\n",
    "* Para construir um *BoxPlot* utiliza-se o argumento *kind='box'*;\n",
    "* Para construir um *violinplot* utiliza-se o argumento *kind='violin'*;\n",
    "* Para construir um *boxenplot* (ou *letter-value plot*) utiliza-se o argumento *kind='boxen'*."
   ]
  },
  {
   "cell_type": "code",
   "execution_count": null,
   "metadata": {
    "slideshow": {
     "slide_type": "slide"
    }
   },
   "outputs": [],
   "source": [
    "grafico = sns.catplot(x='Dia', y='obitosNovos', kind = 'box', data=covid_BR_obitos, order = ['Segunda-Feira', 'Terça-Feira',\n",
    "                                                'Quarta-Feira', 'Quinta-Feira', 'Sexta-Feira', 'Sábado', 'Domingo'])\n",
    "grafico.ax.set_xlabel(''); grafico.fig.set_size_inches(13,7)"
   ]
  },
  {
   "cell_type": "code",
   "execution_count": null,
   "metadata": {
    "slideshow": {
     "slide_type": "slide"
    }
   },
   "outputs": [],
   "source": [
    "covid_regioes_diarios_px = covid_BR.set_index(\n",
    "    'data').query('regiao != \"Brasil\"')[['obitosNovos', 'regiao']].reset_index().rename(\n",
    "    {'obitosNovos':'Óbitos','regiao':'Região','data':'Data'},axis=1)\n",
    "covid_regioes_diarios_px = covid_regioes_diarios_px.groupby(['Região','Data']).sum()/2\n",
    "covid_regioes_diarios_px = covid_regioes_diarios_px.reset_index().set_index('Data')\n",
    "covid_regioes_diarios_px"
   ]
  },
  {
   "cell_type": "code",
   "execution_count": null,
   "metadata": {
    "slideshow": {
     "slide_type": "slide"
    }
   },
   "outputs": [],
   "source": [
    "grafico = sns.catplot(x='Região', y='Óbitos', kind = 'box', data=covid_regioes_diarios_px)\n",
    "grafico.ax.set_xlabel(''); grafico.fig.set_size_inches(10,8)"
   ]
  },
  {
   "cell_type": "markdown",
   "metadata": {
    "slideshow": {
     "slide_type": "slide"
    }
   },
   "source": [
    "Na presença de muitos *outliers*, como é o caso do gráfico anterior, é interessante considerar uma alternativa ao *BoxPlot*.\n",
    "\n",
    "Vamos ver agora o *Boxen Plot* (ou *letter-value plots*). Este plot considera os quantis: ..., 0.8%, 1.56%, 3.13%, 6.25%, 12.5%, 25%, 50%, 75%, 87.5%, 93.75%, 96.88%, 98.44%, 99.24%, ...\n",
    "\n"
   ]
  },
  {
   "cell_type": "code",
   "execution_count": null,
   "metadata": {
    "slideshow": {
     "slide_type": "slide"
    }
   },
   "outputs": [],
   "source": [
    "grafico = sns.catplot(x='Região', y='Óbitos', kind = 'boxen', data=covid_regioes_diarios_px)\n",
    "grafico.ax.set_xlabel(''); grafico.fig.set_size_inches(10,8)"
   ]
  },
  {
   "cell_type": "markdown",
   "metadata": {
    "slideshow": {
     "slide_type": "slide"
    }
   },
   "source": [
    "Porém num gráfico sem muitos *outliers* o *Boxen Plot* não fica muito diferente do *BoxPlot*."
   ]
  },
  {
   "cell_type": "code",
   "execution_count": null,
   "metadata": {},
   "outputs": [],
   "source": [
    "grafico = sns.catplot(x='Dia', y='obitosNovos', kind = 'boxen', data=covid_BR_obitos, order = ['Segunda-Feira', 'Terça-Feira',\n",
    "                                                'Quarta-Feira', 'Quinta-Feira', 'Sexta-Feira', 'Sábado', 'Domingo'])\n",
    "grafico.ax.set_xlabel('');grafico.fig.set_size_inches(13,7)"
   ]
  },
  {
   "cell_type": "markdown",
   "metadata": {
    "slideshow": {
     "slide_type": "slide"
    }
   },
   "source": [
    "* Na presença de muitos *outliers* também é preferível um *violinplot* no lugar de um *BoxPlot* para tornar visível o que está ocorrendo."
   ]
  },
  {
   "cell_type": "code",
   "execution_count": null,
   "metadata": {},
   "outputs": [],
   "source": [
    "grafico = sns.catplot(x='Região', y='Óbitos', kind = 'violin', data=covid_regioes_diarios_px)\n",
    "grafico.ax.set_xlabel('');grafico.fig.set_size_inches(13,6)"
   ]
  },
  {
   "cell_type": "markdown",
   "metadata": {
    "slideshow": {
     "slide_type": "slide"
    }
   },
   "source": [
    "* Muitas vezes é interessante sobrepor um *violinplot* a um *swarmplot* para evidenciar o comportamento da distribuição dos dados."
   ]
  },
  {
   "cell_type": "code",
   "execution_count": null,
   "metadata": {
    "slideshow": {
     "slide_type": "-"
    }
   },
   "outputs": [],
   "source": [
    "grafico = sns.catplot(x='Região', y='Óbitos', kind = 'violin', data=covid_regioes_diarios_px)\n",
    "sns.swarmplot(x='Região', y='Óbitos', data=covid_regioes_diarios_px, ax = grafico.ax, size=4, color='k') # k = black, b = blue\n",
    "grafico.ax.set_xlabel('');grafico.fig.set_size_inches(13,6)"
   ]
  },
  {
   "cell_type": "code",
   "execution_count": null,
   "metadata": {
    "slideshow": {
     "slide_type": "slide"
    }
   },
   "outputs": [],
   "source": [
    "grafico = sns.catplot(x='Dia', y='obitosNovos', kind = 'violin', data=covid_BR_obitos)\n",
    "sns.swarmplot(x='Dia', y='obitosNovos', data=covid_BR_obitos, ax = grafico.ax, size=4, color='k') \n",
    "grafico.ax.set_xlabel(''); grafico.fig.set_size_inches(15,7)"
   ]
  },
  {
   "cell_type": "markdown",
   "metadata": {
    "slideshow": {
     "slide_type": "slide"
    }
   },
   "source": [
    "## Histogramas\n",
    "\n",
    "* O *seaborn* constrói histogramas a partir da função **distplot** e por padrão possui um estimador de densidade baseado no núcleo gaussiano. Podemos retirar o estimador de densidade utilizando o argumento *kde=False*."
   ]
  },
  {
   "cell_type": "code",
   "execution_count": null,
   "metadata": {
    "slideshow": {
     "slide_type": "slide"
    }
   },
   "outputs": [],
   "source": [
    "fig, ax = plt.subplots(figsize=(14,10))\n",
    "_ = sns.distplot(covid_regioes_diarios_px.query('Região==\"Nordeste\"')['Óbitos'], ax=ax)"
   ]
  },
  {
   "cell_type": "code",
   "execution_count": null,
   "metadata": {
    "slideshow": {
     "slide_type": "slide"
    }
   },
   "outputs": [],
   "source": [
    "fig, ax = plt.subplots(figsize=(14,10))\n",
    "_ = sns.distplot(covid_regioes_diarios_px.query('Região==\"Nordeste\"')['Óbitos'], kde=False, ax=ax)"
   ]
  },
  {
   "cell_type": "code",
   "execution_count": null,
   "metadata": {
    "slideshow": {
     "slide_type": "slide"
    }
   },
   "outputs": [],
   "source": [
    "fig, ax = plt.subplots(figsize=(14,10))\n",
    "_ =  sns.distplot(covid_regioes_diarios_px.query('Região==\"Nordeste\"')['Óbitos'], hist=False)"
   ]
  },
  {
   "cell_type": "code",
   "execution_count": null,
   "metadata": {
    "slideshow": {
     "slide_type": "slide"
    }
   },
   "outputs": [],
   "source": [
    "fig, ax = plt.subplots(figsize=(14,10))\n",
    "_ = sns.distplot(df_exemplo['coluna_1'])"
   ]
  },
  {
   "cell_type": "markdown",
   "metadata": {
    "slideshow": {
     "slide_type": "slide"
    }
   },
   "source": [
    "* Se quisermos sobrepor dois histogramas, devemos usar a função *FacetGrid* do *seaborn*, que permite construir vários gráficos bidimensionais simultaneamente, com a cor sendo dada por uma terceira variável.\n",
    "\n",
    "* Devemos definir qual o *DataFrame* que iremos trabalhar e qual a variável que queremos que forneça a cor;\n",
    "* Em seguida, devemos aplicar *map* ao gráfico e definir qual será o tipo de gráfico que queremos, qual variável e quais os parâmetros de interesse."
   ]
  },
  {
   "cell_type": "markdown",
   "metadata": {
    "slideshow": {
     "slide_type": "slide"
    }
   },
   "source": [
    "Para criar gráficos de histogramas com cores, vamos utilizar como base a função criada por *lbalazscs* no link https://github.com/mwaskom/seaborn/issues/861\n",
    "\n",
    "Fizemos apenas uma leve modificação para incluir o tamanho e ajeitamos o argumento *bins* que estava faltando."
   ]
  },
  {
   "cell_type": "code",
   "execution_count": null,
   "metadata": {
    "slideshow": {
     "slide_type": "-"
    }
   },
   "outputs": [],
   "source": [
    "def distplot_with_hue(data=None, x=None, hue=None, row=None, col=None, legend=True, size=(10,10), **kwargs):\n",
    "    _, bins = np.histogram(data[x].dropna())\n",
    "    g = sns.FacetGrid(data, hue=hue, row=row, col=col)\n",
    "    g.map(sns.distplot, x, bins=bins, **kwargs)\n",
    "    g.fig.set_size_inches(size)\n",
    "    if legend and (hue is not None) and (hue not in [x, row, col]):\n",
    "        g.add_legend(title=hue) "
   ]
  },
  {
   "cell_type": "code",
   "execution_count": null,
   "metadata": {
    "slideshow": {
     "slide_type": "slide"
    }
   },
   "outputs": [],
   "source": [
    "distplot_with_hue(data=covid_regioes_diarios_px, x='Óbitos', hue='Região', hist=True, size=(18,7))"
   ]
  },
  {
   "cell_type": "code",
   "execution_count": null,
   "metadata": {
    "slideshow": {
     "slide_type": "slide"
    }
   },
   "outputs": [],
   "source": [
    "distplot_with_hue(data=covid_regioes_diarios_px, x='Óbitos', hue='Região', hist=True, size=(18,7), kde=False)"
   ]
  },
  {
   "cell_type": "markdown",
   "metadata": {
    "slideshow": {
     "slide_type": "slide"
    }
   },
   "source": [
    "## Distribuição Conjunta e Marginais\n",
    "\n",
    "* O histograma nos permite verificar a distribuição de uma ou mais variáveis, mas sem levar outras variáveis em conta.\n",
    "\n",
    "* Para verificar como duas variáveis se comportam conjuntamente, isto é, sua distribuição conjunta, assim como suas distribuições individuais (marginais), podemos utilizar a função **jointplot** do *seaborn*."
   ]
  },
  {
   "cell_type": "code",
   "execution_count": null,
   "metadata": {
    "slideshow": {
     "slide_type": "slide"
    }
   },
   "outputs": [],
   "source": [
    "_ = sns.jointplot(x = 'coluna_1', y = 'coluna_2', data=df_exemplo, height=8)"
   ]
  },
  {
   "cell_type": "code",
   "execution_count": null,
   "metadata": {
    "slideshow": {
     "slide_type": "slide"
    }
   },
   "outputs": [],
   "source": [
    "covid_regioes_diarios = pd.DataFrame()\n",
    "\n",
    "regioes = covid_BR.query('regiao != \"Brasil\"')['regiao'].drop_duplicates().array\n",
    "\n",
    "for regiao in regioes:\n",
    "    temp_series = covid_BR.set_index('data').query('regiao == @regiao')['obitosNovos'].groupby('data').sum()/2\n",
    "    temp_series.name = 'obitos_' + regiao\n",
    "    covid_regioes_diarios = pd.concat([covid_regioes_diarios, temp_series], axis=1)\n",
    "    \n",
    "covid_regioes_diarios.index = pd.to_datetime(covid_regioes_diarios.index)\n",
    "covid_regioes_diarios.head()"
   ]
  },
  {
   "cell_type": "code",
   "execution_count": null,
   "metadata": {
    "slideshow": {
     "slide_type": "slide"
    }
   },
   "outputs": [],
   "source": [
    "_ = sns.jointplot(x='obitos_Nordeste', y='obitos_Sudeste', data = covid_regioes_diarios, height=8)"
   ]
  },
  {
   "cell_type": "markdown",
   "metadata": {
    "slideshow": {
     "slide_type": "slide"
    }
   },
   "source": [
    "## Alterando os Estilos e Cores dos Gráficos\n",
    "\n",
    "* O *seaborn* possui 5 estilos pré-definidos: *darkgrid*, *whitegrid*, *dark*, *white* e *ticks*.\n",
    "\n",
    "Vamos ver cada um deles agora."
   ]
  },
  {
   "cell_type": "code",
   "execution_count": null,
   "metadata": {},
   "outputs": [],
   "source": [
    "import matplotlib.dates as mdates\n",
    "from matplotlib.ticker import FuncFormatter"
   ]
  },
  {
   "cell_type": "code",
   "execution_count": null,
   "metadata": {
    "slideshow": {
     "slide_type": "slide"
    }
   },
   "outputs": [],
   "source": [
    "sns.set_style(\"whitegrid\")\n",
    "grafico = sns.relplot(x = 'data', y='Óbitos', hue = 'Tipo', data=covid_PB_obitos_df.reset_index(), kind='line')\n",
    "grafico.fig.autofmt_xdate()\n",
    "grafico.ax.xaxis.set_minor_locator(mdates.DayLocator(interval=7)) #Intervalo entre os tracinhos\n",
    "grafico.ax.xaxis.set_major_locator(mdates.DayLocator(interval=21)) #Intervalo entre as datas\n",
    "grafico.ax.xaxis.set_major_formatter(mdates.DateFormatter('%d/%m/%Y')) #Formato da data\n",
    "grafico.ax.set_xlabel(''); grafico.fig.set_size_inches(20,8)"
   ]
  },
  {
   "cell_type": "code",
   "execution_count": null,
   "metadata": {
    "slideshow": {
     "slide_type": "slide"
    }
   },
   "outputs": [],
   "source": [
    "sns.set_style(\"darkgrid\")\n",
    "grafico = sns.relplot(x = 'data', y='Óbitos', hue = 'Tipo', data=covid_PB_obitos_df.reset_index(), kind='line')\n",
    "grafico.fig.autofmt_xdate()\n",
    "grafico.ax.xaxis.set_minor_locator(mdates.DayLocator(interval=7)) #Intervalo entre os tracinhos\n",
    "grafico.ax.xaxis.set_major_locator(mdates.DayLocator(interval=21)) #Intervalo entre as datas\n",
    "grafico.ax.xaxis.set_major_formatter(mdates.DateFormatter('%d/%m/%Y')) #Formato da data\n",
    "grafico.ax.set_xlabel(''); grafico.fig.set_size_inches(20,8)"
   ]
  },
  {
   "cell_type": "code",
   "execution_count": null,
   "metadata": {
    "slideshow": {
     "slide_type": "slide"
    }
   },
   "outputs": [],
   "source": [
    "sns.set_style(\"dark\")\n",
    "grafico = sns.relplot(x = 'data', y='Óbitos', hue = 'Tipo', data=covid_PB_obitos_df.reset_index(), kind='line')\n",
    "grafico.fig.autofmt_xdate()\n",
    "grafico.ax.xaxis.set_minor_locator(mdates.DayLocator(interval=7)) #Intervalo entre os tracinhos\n",
    "grafico.ax.xaxis.set_major_locator(mdates.DayLocator(interval=21)) #Intervalo entre as datas\n",
    "grafico.ax.xaxis.set_major_formatter(mdates.DateFormatter('%d/%m/%Y')) #Formato da data\n",
    "grafico.ax.set_xlabel(''); grafico.fig.set_size_inches(20,8)"
   ]
  },
  {
   "cell_type": "code",
   "execution_count": null,
   "metadata": {
    "slideshow": {
     "slide_type": "slide"
    }
   },
   "outputs": [],
   "source": [
    "sns.set_style(\"white\")\n",
    "grafico = sns.relplot(x = 'data', y='Óbitos', hue = 'Tipo', data=covid_PB_obitos_df.reset_index(), kind='line')\n",
    "grafico.fig.autofmt_xdate()\n",
    "grafico.ax.xaxis.set_minor_locator(mdates.DayLocator(interval=7)) #Intervalo entre os tracinhos\n",
    "grafico.ax.xaxis.set_major_locator(mdates.DayLocator(interval=21)) #Intervalo entre as datas\n",
    "grafico.ax.xaxis.set_major_formatter(mdates.DateFormatter('%d/%m/%Y')) #Formato da data\n",
    "grafico.ax.set_xlabel(''); grafico.fig.set_size_inches(20,8)"
   ]
  },
  {
   "cell_type": "code",
   "execution_count": null,
   "metadata": {
    "slideshow": {
     "slide_type": "slide"
    }
   },
   "outputs": [],
   "source": [
    "sns.set_style(\"ticks\") # A diferença com o anterior são os \"ticks\" no eixo x\n",
    "grafico = sns.relplot(x = 'data', y='Óbitos', hue = 'Tipo', data=covid_PB_obitos_df.reset_index(), kind='line')\n",
    "grafico.fig.autofmt_xdate()\n",
    "grafico.ax.xaxis.set_minor_locator(mdates.DayLocator(interval=7)) #Intervalo entre os tracinhos\n",
    "grafico.ax.xaxis.set_major_locator(mdates.DayLocator(interval=21)) #Intervalo entre as datas\n",
    "grafico.ax.xaxis.set_major_formatter(mdates.DateFormatter('%d/%m/%Y')) #Formato da data\n",
    "grafico.ax.set_xlabel(''); grafico.fig.set_size_inches(20,8)"
   ]
  },
  {
   "cell_type": "markdown",
   "metadata": {
    "slideshow": {
     "slide_type": "slide"
    }
   },
   "source": [
    "## Adicionando ou Removendo Molduras\n",
    "\n",
    "* Podemos utilizar a função **despine** para adicionar ou remover molduras num plot do *seaborn*.\n",
    "* Colocamos qual o lado que queremos adicionar moldura e remover, e colocamos o valor *True* para remover e *False* para adicionar."
   ]
  },
  {
   "cell_type": "code",
   "execution_count": null,
   "metadata": {
    "slideshow": {
     "slide_type": "slide"
    }
   },
   "outputs": [],
   "source": [
    "sns.set_style(\"ticks\")\n",
    "grafico = sns.relplot(x = 'data', y='Óbitos', hue = 'Tipo', data=covid_PB_obitos_df.reset_index(), kind='line')\n",
    "grafico.fig.autofmt_xdate()\n",
    "grafico.ax.xaxis.set_minor_locator(mdates.DayLocator(interval=7)) #Intervalo entre os tracinhos\n",
    "grafico.ax.xaxis.set_major_locator(mdates.DayLocator(interval=21)) #Intervalo entre as datas\n",
    "grafico.ax.xaxis.set_major_formatter(mdates.DateFormatter('%d/%m/%Y')) #Formato da data\n",
    "grafico.ax.set_xlabel(''); grafico.fig.set_size_inches(20,8)\n",
    "sns.despine(right=False, top=False)"
   ]
  },
  {
   "cell_type": "markdown",
   "metadata": {
    "slideshow": {
     "slide_type": "slide"
    }
   },
   "source": [
    "* Podemos aumentar a distância dos dados com relação à moldura com o argumento *offset=dist*, onde *dist* indica a distância que queremos que o gráfico fique da moldura. Ao utilizarmos este argumento as bordas se afastarão naturalmente, devido à distância.\n",
    "\n",
    "* Podemos realizar um \"corte\" estético na moldura utilizando o argumento *trim=True*. É uma boa combinação com o *offset* acima."
   ]
  },
  {
   "cell_type": "code",
   "execution_count": null,
   "metadata": {
    "slideshow": {
     "slide_type": "slide"
    }
   },
   "outputs": [],
   "source": [
    "sns.set_style(\"ticks\")\n",
    "grafico = sns.relplot(x = 'data', y='Óbitos', hue = 'Tipo', data=covid_PB_obitos_df.reset_index(), kind='line')\n",
    "grafico.fig.autofmt_xdate()\n",
    "grafico.ax.xaxis.set_minor_locator(mdates.DayLocator(interval=7)) #Intervalo entre os tracinhos\n",
    "grafico.ax.xaxis.set_major_locator(mdates.DayLocator(interval=21)) #Intervalo entre as datas\n",
    "grafico.ax.xaxis.set_major_formatter(mdates.DateFormatter('%d/%m/%Y')) #Formato da data\n",
    "grafico.ax.set_xlabel(''); grafico.fig.set_size_inches(20,8)\n",
    "sns.despine(right=False, top=False, offset=30)"
   ]
  },
  {
   "cell_type": "code",
   "execution_count": null,
   "metadata": {
    "slideshow": {
     "slide_type": "slide"
    }
   },
   "outputs": [],
   "source": [
    "sns.set_style(\"ticks\")\n",
    "grafico = sns.relplot(x = 'data', y='Óbitos', hue = 'Tipo', data=covid_PB_obitos_df.reset_index(), kind='line')\n",
    "grafico.fig.autofmt_xdate()\n",
    "grafico.ax.xaxis.set_minor_locator(mdates.DayLocator(interval=7)) #Intervalo entre os tracinhos\n",
    "grafico.ax.xaxis.set_major_locator(mdates.DayLocator(interval=21)) #Intervalo entre as datas\n",
    "grafico.ax.xaxis.set_major_formatter(mdates.DateFormatter('%d/%m/%Y')) #Formato da data\n",
    "grafico.ax.set_xlabel(''); grafico.fig.set_size_inches(20,8)\n",
    "sns.despine(offset=30, trim=True)"
   ]
  },
  {
   "cell_type": "markdown",
   "metadata": {
    "slideshow": {
     "slide_type": "slide"
    }
   },
   "source": [
    "## Definir o contexto em que o gráfico será utilizado para definir a escala\n",
    "\n",
    "* O *seaborn* possui contextos pré-definidos que mudam a escala do gráfico para melhor satisfazer a aplicação de interesse.\n",
    "\n",
    "* Para definir o contexto, utilizamos a função **set_context**. A função é bem flexível e para facilitar já vem com 4 contextos pré-definidos: *paper*, *notebook*, *talk* e *poster*."
   ]
  },
  {
   "cell_type": "code",
   "execution_count": null,
   "metadata": {
    "slideshow": {
     "slide_type": "slide"
    }
   },
   "outputs": [],
   "source": [
    "sns.set_context(\"poster\")\n",
    "sns.set_style(\"ticks\")\n",
    "grafico = sns.relplot(x = 'data', y='Óbitos', hue = 'Tipo', data=covid_PB_obitos_df.reset_index(), kind='line')\n",
    "grafico.fig.autofmt_xdate()\n",
    "grafico.ax.xaxis.set_minor_locator(mdates.DayLocator(interval=7)) #Intervalo entre os tracinhos\n",
    "grafico.ax.xaxis.set_major_locator(mdates.DayLocator(interval=21)) #Intervalo entre as datas\n",
    "grafico.ax.xaxis.set_major_formatter(mdates.DateFormatter('%d/%m/%Y')) #Formato da data\n",
    "grafico.ax.set_xlabel(''); grafico.fig.set_size_inches(17,8)"
   ]
  },
  {
   "cell_type": "code",
   "execution_count": null,
   "metadata": {
    "slideshow": {
     "slide_type": "slide"
    }
   },
   "outputs": [],
   "source": [
    "sns.set_context(\"talk\")\n",
    "sns.set_style(\"ticks\")\n",
    "grafico = sns.relplot(x = 'data', y='Óbitos', hue = 'Tipo', data=covid_PB_obitos_df.reset_index(), kind='line')\n",
    "grafico.fig.autofmt_xdate()\n",
    "grafico.ax.xaxis.set_minor_locator(mdates.DayLocator(interval=7)) #Intervalo entre os tracinhos\n",
    "grafico.ax.xaxis.set_major_locator(mdates.DayLocator(interval=21)) #Intervalo entre as datas\n",
    "grafico.ax.xaxis.set_major_formatter(mdates.DateFormatter('%d/%m/%Y')) #Formato da data\n",
    "grafico.ax.set_xlabel(''); grafico.fig.set_size_inches(17,8)"
   ]
  },
  {
   "cell_type": "code",
   "execution_count": null,
   "metadata": {
    "slideshow": {
     "slide_type": "slide"
    }
   },
   "outputs": [],
   "source": [
    "sns.set_context(\"notebook\")\n",
    "sns.set_style(\"ticks\")\n",
    "grafico = sns.relplot(x = 'data', y='Óbitos', hue = 'Tipo', data=covid_PB_obitos_df.reset_index(), kind='line')\n",
    "grafico.fig.autofmt_xdate()\n",
    "grafico.ax.xaxis.set_minor_locator(mdates.DayLocator(interval=7)) #Intervalo entre os tracinhos\n",
    "grafico.ax.xaxis.set_major_locator(mdates.DayLocator(interval=21)) #Intervalo entre as datas\n",
    "grafico.ax.xaxis.set_major_formatter(mdates.DateFormatter('%d/%m/%Y')) #Formato da data\n",
    "grafico.ax.set_xlabel(''); grafico.fig.set_size_inches(17,8)"
   ]
  },
  {
   "cell_type": "code",
   "execution_count": null,
   "metadata": {
    "slideshow": {
     "slide_type": "slide"
    }
   },
   "outputs": [],
   "source": [
    "sns.set_context(\"paper\")\n",
    "sns.set_style(\"ticks\")\n",
    "grafico = sns.relplot(x = 'data', y='Óbitos', hue = 'Tipo', data=covid_PB_obitos_df.reset_index(), kind='line')\n",
    "grafico.fig.autofmt_xdate()\n",
    "grafico.ax.xaxis.set_minor_locator(mdates.DayLocator(interval=7)) #Intervalo entre os tracinhos\n",
    "grafico.ax.xaxis.set_major_locator(mdates.DayLocator(interval=21)) #Intervalo entre as datas\n",
    "grafico.ax.xaxis.set_major_formatter(mdates.DateFormatter('%d/%m/%Y')) #Formato da data\n",
    "grafico.ax.set_xlabel(''); grafico.fig.set_size_inches(17,8)"
   ]
  },
  {
   "cell_type": "markdown",
   "metadata": {
    "slideshow": {
     "slide_type": "slide"
    }
   },
   "source": [
    "## Definindo a paleta de cores a ser utilizada\n",
    "\n",
    "* É possível personalizar a paleta a ser utilizada, porém podemos escolher dentre uma lista (extremamente extensa) uma paleta que gostamos e utilizá-la.\n",
    "\n",
    "* Uma lista extensa pode ser encontrada em: https://medium.com/@morganjonesartist/color-guide-to-seaborn-palettes-da849406d44f\n",
    "\n",
    "* Utilizando a função **set_palette**, é possível definir uma paleta que será utilizada para todos os gráficos.\n",
    "\n",
    "* É possível utilizar uma paleta apenas uma vez, construindo o gráfico dentro de um enunciado *with* com a função **color_palette**.\n",
    "\n",
    "* É também possível utilizar uma paleta apenas uma vez utilizando o argumento *palette* dentro das funções de construções gráficas."
   ]
  },
  {
   "cell_type": "code",
   "execution_count": null,
   "metadata": {
    "slideshow": {
     "slide_type": "slide"
    }
   },
   "outputs": [],
   "source": [
    "sns.set_context(\"paper\")\n",
    "sns.set_style(\"ticks\")\n",
    "grafico = sns.relplot(x = 'data', y='Óbitos', hue = 'Tipo', data=covid_PB_obitos_df.reset_index(), kind='line',\n",
    "                     palette = 'BuPu')\n",
    "grafico.fig.autofmt_xdate()\n",
    "grafico.ax.xaxis.set_minor_locator(mdates.DayLocator(interval=7)) #Intervalo entre os tracinhos\n",
    "grafico.ax.xaxis.set_major_locator(mdates.DayLocator(interval=21)) #Intervalo entre as datas\n",
    "grafico.ax.xaxis.set_major_formatter(mdates.DateFormatter('%d/%m/%Y')) #Formato da data\n",
    "grafico.ax.set_xlabel(''); grafico.fig.set_size_inches(17,8)"
   ]
  },
  {
   "cell_type": "code",
   "execution_count": null,
   "metadata": {
    "slideshow": {
     "slide_type": "slide"
    }
   },
   "outputs": [],
   "source": [
    "with sns.color_palette('mako_r'):\n",
    "    grafico = sns.catplot(x='Região', y='Óbitos', kind = 'violin', data=covid_regioes_diarios_px)\n",
    "    grafico.ax.set_xlabel(''); grafico.fig.set_size_inches(17,6)"
   ]
  },
  {
   "cell_type": "code",
   "execution_count": null,
   "metadata": {
    "slideshow": {
     "slide_type": "slide"
    }
   },
   "outputs": [],
   "source": [
    "paleta_atual = sns.color_palette() # Obter a paleta de cores sendo utilizada\n",
    "# Caso haja interesse em guardar este valor, tomar cuidado para não rodar este comando\n",
    "# enquanto outra paleta esteja sendo utilizada"
   ]
  },
  {
   "cell_type": "code",
   "execution_count": null,
   "metadata": {
    "slideshow": {
     "slide_type": "-"
    }
   },
   "outputs": [],
   "source": [
    "sns.set_palette('icefire_r')\n",
    "_ = sns.jointplot(x='obitos_Nordeste', y='obitos_Sudeste', data = covid_regioes_diarios, height=7)"
   ]
  },
  {
   "cell_type": "code",
   "execution_count": null,
   "metadata": {},
   "outputs": [],
   "source": [
    "sns.set_palette(paleta_atual) # Voltar para a paleta padrão"
   ]
  }
 ],
 "metadata": {
  "celltoolbar": "Slideshow",
  "kernelspec": {
   "display_name": "Python 3",
   "language": "python",
   "name": "python3"
  },
  "language_info": {
   "codemirror_mode": {
    "name": "ipython",
    "version": 3
   },
   "file_extension": ".py",
   "mimetype": "text/x-python",
   "name": "python",
   "nbconvert_exporter": "python",
   "pygments_lexer": "ipython3",
   "version": "3.7.6"
  },
  "latex_metadata": {
   "affiliation": "Departamento de Computação Científica / UFPB",
   "author": "Gustavo Oliveira e Andréa Rocha",
   "date": "Julho de 2020",
   "title": "Aula 8A - Visualização Gráfica de Dados"
  },
  "rise": {
   "enable_chalkboard": true,
   "footer": "UFPB - CI - DCC",
   "header": "Gustavo Oliveira / Andrea Rocha",
   "theme": "sky"
  }
 },
 "nbformat": 4,
 "nbformat_minor": 4
}
