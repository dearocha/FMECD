{
 "cells": [
  {
   "cell_type": "markdown",
   "metadata": {
    "slideshow": {
     "slide_type": "slide"
    }
   },
   "source": [
    "# Estatística Descritiva com apoio do *Python*\n",
    "## As bibliotecas *numpy*  e *pandas*"
   ]
  },
  {
   "cell_type": "markdown",
   "metadata": {
    "slideshow": {
     "slide_type": "slide"
    }
   },
   "source": [
    "* Vamos apresentar vários métodos estatísticos desenvolvidos para *Series* e *DataFrames*."
   ]
  },
  {
   "cell_type": "code",
   "execution_count": null,
   "metadata": {
    "slideshow": {
     "slide_type": "-"
    }
   },
   "outputs": [],
   "source": [
    "import numpy as np\n",
    "import pandas as pd"
   ]
  },
  {
   "cell_type": "markdown",
   "metadata": {
    "slideshow": {
     "slide_type": "slide"
    }
   },
   "source": [
    "## Distribuição de Frequência\n",
    "\n",
    "* Uma distribuição de frequência é uma tabela que contém um resumo dos dados obtido em uma amostra.\n",
    "\n",
    "* A distribuição é organizada em formato de tabela, e cada entrada da tabela contém a frequência dos dados em um determinado intervalo, ou em um grupo."
   ]
  },
  {
   "cell_type": "markdown",
   "metadata": {
    "slideshow": {
     "slide_type": "slide"
    }
   },
   "source": [
    "* Abaixo vemos um exemplo simplificado de tabela de distribuição de frequência:\n",
    "\n",
    "| Alturas em metros | Número dos Alunos | \n",
    "| :-------------: |:-------------:| \n",
    "|1,50 $|\\!-$ 1,60   | 5 | \n",
    "| 1,60 $|\\!-$ 1,70   | 15     |   \n",
    "| 1,70 $|\\!-$ 1,80   | 17      |   \n",
    "| 1,80 $|\\!-$ 1,90    | 3      |   \n",
    "| Total    | 40      |"
   ]
  },
  {
   "cell_type": "markdown",
   "metadata": {
    "slideshow": {
     "slide_type": "slide"
    }
   },
   "source": [
    "### Construção de uma distribuição de frequência\n",
    "\n",
    "* Para ilustrar como se constrói uma distribuição de frequência, nós vamos considerar um exemplo específico.\n",
    "\n",
    "* Assim, suponha que uma pesquisa foi feita, e o seguinte conjunto de dados foi obtido:\n",
    "\n",
    "    * **Dados Brutos**: 24-23-22-28-35-21-23-33-34-24-21-25-36-26-22-30-32-25-26-33-34-21-31-25-31-26-25-35-33-31.\n",
    "\n"
   ]
  },
  {
   "cell_type": "code",
   "execution_count": null,
   "metadata": {},
   "outputs": [],
   "source": [
    "dados = [24,23,22,28,35,21,23,33,34,24,21,25,36,26,22,30,32,25,26,33,34,21,31,25,31,26,25,35,33,31]"
   ]
  },
  {
   "cell_type": "markdown",
   "metadata": {
    "slideshow": {
     "slide_type": "slide"
    }
   },
   "source": [
    "#### Rol de dados\n",
    "\n",
    "* A primeira coisa que fazemos é ordenar os dados do menor para o maior, formando o *rol de dados*:\n",
    "\n",
    "    * **Rol de dados**: 21-21-21-22-22-23-23-24-25-25-25-25-26-26-26-28-30-31-31-31-32-33-33-33-34-34-34-35-35-36."
   ]
  },
  {
   "cell_type": "code",
   "execution_count": null,
   "metadata": {},
   "outputs": [],
   "source": [
    "np.sort(dados)"
   ]
  },
  {
   "cell_type": "markdown",
   "metadata": {
    "slideshow": {
     "slide_type": "slide"
    }
   },
   "source": [
    "#### Amplitude Total\n",
    "\n",
    "* Em seguida, calculamos a *amplitude total*, ou seja, o maior valor obtido na amostra subtraído do menor\n",
    "valor obtido na amostra:\n",
    "\n",
    "    * **Amplitude Total**: R = 36-21 = 15."
   ]
  },
  {
   "cell_type": "code",
   "execution_count": null,
   "metadata": {},
   "outputs": [],
   "source": [
    "R = np.max(dados) - np.min(dados); R"
   ]
  },
  {
   "cell_type": "markdown",
   "metadata": {
    "slideshow": {
     "slide_type": "slide"
    }
   },
   "source": [
    "#### Tamanho Amostral\n",
    "\n",
    "* Vamos calcular, agora, o tamanho amostral, ou seja, o número de observações obtidas na amostra.\n",
    "\n",
    "    * **Tamanho Amostral**: n = 30.\n"
   ]
  },
  {
   "cell_type": "code",
   "execution_count": null,
   "metadata": {},
   "outputs": [],
   "source": [
    "n = len(dados); n"
   ]
  },
  {
   "cell_type": "markdown",
   "metadata": {},
   "source": [
    "* Para Series e DataFrames o método **count()** retorna a total de valores."
   ]
  },
  {
   "cell_type": "code",
   "execution_count": null,
   "metadata": {},
   "outputs": [],
   "source": [
    "n = pd.Series(dados).count(); n"
   ]
  },
  {
   "cell_type": "markdown",
   "metadata": {
    "slideshow": {
     "slide_type": "slide"
    }
   },
   "source": [
    "#### Número de Classes\n",
    "\n",
    "* Queremos, agora, dividir a amostra em uma quantidade de grupos que formarão os intervalos. Cada grupo é chamado de *classe*,\n",
    "assim, queremos definir o *número de classes* a ser considerado na tabela de *distribuição de frequência*:\n",
    "\n",
    "    * **Número de Classes**: K.\n",
    "\n",
    "        * K=5 para $n\\leq 25$ e $K\\approx \\sqrt{n}$, para $n>25$. \n",
    "\n",
    "        * Fórmula de Sturges $K\\approx 1+3,22\\log n$. \n",
    "\n",
    "* Logo, pela primeira regra temos $K=\\sqrt{30}\\approx 5,48 \\approx 6$, e pela segunda regra \n",
    "$K\\approx 1+3,22\\log 30\\approx 5,75 \\approx 6.$ Desta forma, em ambos os casos temos $K=6$, que será o valor considerado.\n"
   ]
  },
  {
   "cell_type": "markdown",
   "metadata": {
    "slideshow": {
     "slide_type": "slide"
    }
   },
   "source": [
    "Número de classes padrão:"
   ]
  },
  {
   "cell_type": "code",
   "execution_count": null,
   "metadata": {
    "slideshow": {
     "slide_type": "-"
    }
   },
   "outputs": [],
   "source": [
    "if n<25:\n",
    "    K = 5\n",
    "else:\n",
    "    K = np.ceil(np.sqrt(n))\n",
    "K"
   ]
  },
  {
   "cell_type": "markdown",
   "metadata": {
    "slideshow": {
     "slide_type": "-"
    }
   },
   "source": [
    "Número de classes fórmula de Sturges:"
   ]
  },
  {
   "cell_type": "code",
   "execution_count": null,
   "metadata": {},
   "outputs": [],
   "source": [
    "KFS = np.ceil( 1 + 3.22*np.log10(n)); KFS"
   ]
  },
  {
   "cell_type": "markdown",
   "metadata": {
    "slideshow": {
     "slide_type": "slide"
    }
   },
   "source": [
    "#### Amplitude das Classes\n",
    "\n",
    "* O próximo passo é saber o comprimento de cada intervalo a ser considerado, ou seja, calcular a amplitude de cada classe. Queremos que todas as classes tenham a mesma amplitude e portanto, temos:\n",
    "\n",
    "    * **Amplitude das Classes**: $h=\\frac{R}{K}=\\frac{15}{6}=2,5\\approx 3$."
   ]
  },
  {
   "cell_type": "code",
   "execution_count": null,
   "metadata": {},
   "outputs": [],
   "source": [
    "h = np.ceil(R/K); h"
   ]
  },
  {
   "cell_type": "markdown",
   "metadata": {
    "slideshow": {
     "slide_type": "slide"
    }
   },
   "source": [
    "#### Limites das Classes\n",
    "* Vamos agora definir os *limites das classes*. Para tanto, começamos com o menor valor obtido da amostra, ou equivalentemente, o primeiro valor do *rol de dados*, e vamos somando a amplitude para definir cada limite de intervalo:\n",
    "    \n",
    "| Classes |    \n",
    "| :-------------:\n",
    "| 21 $|\\!-$ 24 |\n",
    "| 24 $|\\!-$ 27 |  \n",
    "| 27 $|\\!-$ 30 |  \n",
    "| 30 $|\\!-$ 33 | \n",
    "| 33 $|\\!-$ 36 |  \n",
    "| 36 $|\\!-$ 39 | "
   ]
  },
  {
   "cell_type": "code",
   "execution_count": null,
   "metadata": {},
   "outputs": [],
   "source": [
    "bins = [np.min(dados) + i*h.astype('int') for i in range(K.astype('int')+1)]; bins"
   ]
  },
  {
   "cell_type": "markdown",
   "metadata": {
    "slideshow": {
     "slide_type": "slide"
    }
   },
   "source": [
    "#### Frequência dos Dados\n",
    "\n",
    "* Agora, calculamos as frequências dos dados em cada intervalo e, chamada também de *frequência absoluta*. E finalmente montamos a tabela de *Distribuição de Frequência*.\n",
    "\n",
    "| Classes |   Frequência |\n",
    "| :-------------:| :-------------:|\n",
    "| 21 $|\\!-$ 24 | 7 |\n",
    "| 24 $|\\!-$ 27 | 9 |  \n",
    "| 27 $|\\!-$ 30 | 1 |  \n",
    "| 30 $|\\!-$ 33 | 5 | \n",
    "| 33 $|\\!-$ 36 | 7 | \n",
    "| 36 $|\\!-$ 39 | 1 | "
   ]
  },
  {
   "cell_type": "markdown",
   "metadata": {
    "slideshow": {
     "slide_type": "slide"
    }
   },
   "source": [
    "No *pandas*, a função **cut** cria classes a partir dos dados e o método **value_counts()** cria uma tabela de frequências. Combinando os dois obtemos uma *Distribuição de Frequência*."
   ]
  },
  {
   "cell_type": "code",
   "execution_count": null,
   "metadata": {},
   "outputs": [],
   "source": [
    "pd.cut(dados, bins=bins, right=False).value_counts() "
   ]
  },
  {
   "cell_type": "code",
   "execution_count": null,
   "metadata": {
    "slideshow": {
     "slide_type": "slide"
    }
   },
   "outputs": [],
   "source": [
    "def n_classes(dados: pd.Series, tipo='Padrão'):\n",
    "    n_obs = len(dados)\n",
    "    if tipo=='Padrão':\n",
    "        return 5 if n_obs<25 else np.ceil(np.sqrt(n_obs)).astype(int)\n",
    "    if tipo=='Sturges':\n",
    "        return (1 + np.ceil(np.log2(n_obs))).astype(int)\n",
    "\n",
    "def amplitude_classes(dados: pd.Series, tipo='Padrão', arredondar=True):\n",
    "    amplitude = np.ceil((dados.max() - dados.min())/n_classes(dados, tipo=tipo)) \\\n",
    "    if arredondar else (dados.max() - dados.min())/n_classes(dados, tipo=tipo)\n",
    "    return amplitude\n",
    "\n",
    "def construir_tabela(dados, tipo='Padrão', direita=False, arredondar=True):\n",
    "    dados_series = pd.Series(dados)\n",
    "    n_class = n_classes(dados_series, tipo=tipo)\n",
    "    amp_class = amplitude_classes(dados_series, tipo=tipo, arredondar=arredondar)\n",
    "    bins = [dados_series.min() + i*amp_class for i in range(n_class+1)]\n",
    "    return pd.cut(dados_series, bins=bins, right=direita).value_counts(sort=False).rename('Frequência')\n",
    "\n",
    "def formatar_intervalos(intervalos, prec, direita=False):   \n",
    "    fechado = 'right' if direita else 'left'\n",
    "    return [pd.Interval(left=np.round(intervalo.left,prec), \n",
    "                        right=np.round(intervalo.right,prec), closed=fechado) for intervalo in intervalos]"
   ]
  },
  {
   "cell_type": "code",
   "execution_count": null,
   "metadata": {
    "slideshow": {
     "slide_type": "slide"
    }
   },
   "outputs": [],
   "source": [
    "def dist_freq(dados, tipo='Padrão', prec=2, direita=False, arredondar=True, exibir_total=True):    \n",
    "    df_dist_freq = pd.DataFrame(construir_tabela(dados, tipo=tipo, direita=direita, arredondar=arredondar))\n",
    "    df_dist_freq.index = formatar_intervalos(df_dist_freq.index.array, prec, direita=direita)\n",
    "    df_dist_freq.index = df_dist_freq.index.rename('Classes')\n",
    "    if exibir_total:\n",
    "        total_dist = pd.DataFrame({'Frequência':df_dist_freq['Frequência'].sum()}, index=['Total'])\n",
    "        total_dist.index = total_dist.index.rename('Classes')\n",
    "        df_dist_freq = pd.concat([df_dist_freq, total_dist])\n",
    "    return  df_dist_freq.query('Frequência>0')\n"
   ]
  },
  {
   "cell_type": "code",
   "execution_count": null,
   "metadata": {
    "slideshow": {
     "slide_type": "slide"
    }
   },
   "outputs": [],
   "source": [
    "dist_freq(dados)"
   ]
  },
  {
   "cell_type": "code",
   "execution_count": null,
   "metadata": {
    "slideshow": {
     "slide_type": "slide"
    }
   },
   "outputs": [],
   "source": [
    "z=np.random.normal(0,1,200)\n",
    "dist_freq(z)"
   ]
  },
  {
   "cell_type": "code",
   "execution_count": null,
   "metadata": {},
   "outputs": [],
   "source": [
    "np.min(z)"
   ]
  },
  {
   "cell_type": "code",
   "execution_count": null,
   "metadata": {},
   "outputs": [],
   "source": [
    "np.max(z)"
   ]
  },
  {
   "cell_type": "markdown",
   "metadata": {
    "slideshow": {
     "slide_type": "slide"
    }
   },
   "source": [
    "## Medidas de Posição\n",
    "\n",
    "* As medidas de posição são valores que representam a tendência de concentração dos dados observados.\n",
    "\n",
    "* As mais importantes são as _medidas de tendência central_. \n",
    "\n",
    "* As três medidas de tendência central  mais utilizadas são: *Média*, *Moda* e *Mediana*.\n"
   ]
  },
  {
   "cell_type": "markdown",
   "metadata": {
    "slideshow": {
     "slide_type": "slide"
    }
   },
   "source": [
    "### Média\n",
    "\n",
    "* É um valor que representa uma característica do conjunto de dados. Essa característica é tal que a soma dos dados é preservada. A média é obtida a partir de todos os elementos da distribuição e do tamanho da amostra.\n",
    "\n",
    "* *Notação*: representamos a média de um conjunto de dados por $\\overline{X}$.\n",
    " \n",
    "* Calculamos a média aritmética pela fórmula:\n",
    "$$\n",
    "\\overline{X}=\\sum_{i=1}^{n}\\frac{X_i}{n}.\n",
    "$$\n"
   ]
  },
  {
   "cell_type": "markdown",
   "metadata": {
    "slideshow": {
     "slide_type": "slide"
    }
   },
   "source": [
    "\n",
    "* Para Series e DataFrames o método **mean()** retorna a média dos valores."
   ]
  },
  {
   "cell_type": "code",
   "execution_count": null,
   "metadata": {},
   "outputs": [],
   "source": [
    "pd.Series(dados).mean()"
   ]
  },
  {
   "cell_type": "markdown",
   "metadata": {
    "slideshow": {
     "slide_type": "slide"
    }
   },
   "source": [
    "#### Média para dados agrupados em intervalos\n",
    "\n",
    "* No caso em que temos os dados agrupados em intervalos, utilizamos a frequência e o ponto médio de cada classes para calcular a média pela fórmula:\n",
    "$$\n",
    "\\overline{X}=\\sum_{i=1}^{K}\\frac{F_i\\cdot pm_i}{n}, \n",
    "$$\n",
    "onde $K$ é o número de classes, $F_i$ é a frequência da $i$-ésima classe e  $pm_i$ é o ponto médio da $i$-ésima classe."
   ]
  },
  {
   "cell_type": "code",
   "execution_count": null,
   "metadata": {
    "slideshow": {
     "slide_type": "slide"
    }
   },
   "outputs": [],
   "source": [
    "dist_freq_pm = dist_freq(dados, exibir_total=False)\n",
    "intervalos = dist_freq_pm.index.array\n",
    "dist_freq_pm['Ponto Médio'] = [(intervalo.left+intervalo.right)/2 for intervalo in intervalos]\n",
    "dist_freq_pm"
   ]
  },
  {
   "cell_type": "code",
   "execution_count": null,
   "metadata": {},
   "outputs": [],
   "source": [
    "media = (dist_freq_pm['Frequência']*dist_freq_pm['Ponto Médio']).sum()/dist_freq_pm['Frequência'].sum()\n",
    "media"
   ]
  },
  {
   "cell_type": "code",
   "execution_count": null,
   "metadata": {
    "slideshow": {
     "slide_type": "slide"
    }
   },
   "outputs": [],
   "source": [
    "def media_dist_freq(d_freq):\n",
    "    if(type(d_freq.index.array).__name__ != 'IntervalArray'):\n",
    "        d_freq = d_freq.head(-1).copy()\n",
    "    intervalos = d_freq.index.array\n",
    "    d_freq['Ponto Médio'] = [(intervalo.left+intervalo.right)/2 for intervalo in intervalos]\n",
    "    return (d_freq['Frequência']*d_freq['Ponto Médio']).sum()/d_freq['Frequência'].sum()"
   ]
  },
  {
   "cell_type": "code",
   "execution_count": null,
   "metadata": {},
   "outputs": [],
   "source": [
    "media_dist_freq(dist_freq(dados))"
   ]
  },
  {
   "cell_type": "code",
   "execution_count": null,
   "metadata": {},
   "outputs": [],
   "source": [
    "media_dist_freq(dist_freq(z))"
   ]
  },
  {
   "cell_type": "markdown",
   "metadata": {
    "slideshow": {
     "slide_type": "slide"
    }
   },
   "source": [
    "### Moda\n",
    "\n",
    "* Definimos a moda de um conjunto de dados como o valor mais frequente deste conjunto. \n",
    "\n",
    "* *Notação*: representamos a moda de um conjunto de dados por $Mo$.\n",
    "\n",
    "* *Exemplo*:\n",
    "\n",
    "    * 1, 2, 4, 5 e 8 - não existe valor mais frequente - não existe moda (Amodal).\n",
    "    * 2, 2, 3, 7 e 8 - $Mo$ = 2 (Unimodal).\n",
    "    * 1, 1, 10, 5, 5, 8, 7, 2 - $Mo$ = 1 e 5 (Bimodal). \n",
    "\n",
    "* Para Series e DataFrames o método **mode()** retorna a moda dos valores.\n"
   ]
  },
  {
   "cell_type": "code",
   "execution_count": null,
   "metadata": {
    "slideshow": {
     "slide_type": "slide"
    }
   },
   "outputs": [],
   "source": [
    "pd.Series(dados).mode()"
   ]
  },
  {
   "cell_type": "code",
   "execution_count": null,
   "metadata": {},
   "outputs": [],
   "source": [
    "pd.Series(z).mode()"
   ]
  },
  {
   "cell_type": "markdown",
   "metadata": {
    "slideshow": {
     "slide_type": "slide"
    }
   },
   "source": [
    "#### Moda em dados agrupados em intervalos\n",
    "\n",
    "* Neste caso, utiliza-se a fórmula de Czuber identificando a *classe modal*, isto é, a classe com a maior frequencia.\n",
    "\n",
    "$$\n",
    "{\\rm Mo}=l_{\\rm Mo} + \\left[\\frac{h(F_{\\rm Mo} - F_{\\rm ant})}{2 F_{\\rm Mo}-(F_{\\rm ant}+F_{\\rm Pos})} \\right],\n",
    "$$\n",
    "onde:\n",
    "\n",
    "$h$ é a amplitude intervalar,\n",
    "\n",
    "$F_{\\rm Mo}$ é a frequência da *classe modal*,\n",
    "\n",
    "$l_{\\rm Mo}$ é o limite inferior da *classe modal*,\n",
    "\n",
    "$F_{\\rm ant}$ é a frequência da classe anterior à *classe modal*,\n",
    "\n",
    "$F_{\\rm Pos}$ é a frequência da classe posterior à classe modal.\n",
    "\n"
   ]
  },
  {
   "cell_type": "code",
   "execution_count": null,
   "metadata": {},
   "outputs": [],
   "source": [
    "def encontra_indices_modais(d_freq):\n",
    "    if(type(d_freq.index.array).__name__ != 'IntervalArray'):\n",
    "        d_freq = d_freq.head(-1).copy()\n",
    "    d_temp = d_freq.reset_index()['Frequência']\n",
    "    return ((d_temp[d_temp == d_temp.max()]).index).to_numpy()\n",
    "\n",
    "def encontra_freq_anterior(d_freq):\n",
    "    idx_modal = encontra_indices_modais(d_freq).astype('float')\n",
    "    idx_anterior = idx_modal-1\n",
    "    idx_anterior[idx_anterior<0] = np.nan\n",
    "    freq_anterior = d_freq['Frequência'].iloc[idx_anterior[~np.isnan(idx_anterior)]].to_numpy()\n",
    "    if(np.isnan(idx_anterior[0])):\n",
    "        freq_anterior = np.insert(freq_anterior,0,0)\n",
    "    return freq_anterior\n",
    "\n",
    "def encontra_freq_posterior(d_freq):\n",
    "    idx_modal = encontra_indices_modais(d_freq).astype('float')\n",
    "    n_classes = d_freq.shape[0]\n",
    "    idx_posterior = idx_modal+1\n",
    "    idx_posterior[idx_posterior >= n_classes] = np.nan\n",
    "    freq_posterior = d_freq['Frequência'].iloc[idx_posterior[~np.isnan(idx_posterior)]].to_numpy()\n",
    "    if(np.isnan(idx_posterior[-1])):\n",
    "        freq_posterior = np.append(freq_posterior,0)\n",
    "    return freq_posterior\n",
    "\n",
    "def moda_dist_freq(d_freq):\n",
    "    if(type(d_freq.index.array).__name__ != 'IntervalArray'):\n",
    "        d_freq = d_freq.head(-1).copy()\n",
    "        d_freq.index = d_freq.index.array.astype(pd.arrays.IntervalArray)\n",
    "    idx_modal = encontra_indices_modais(d_freq)\n",
    "    h = d_freq.index.array[0].right-d_freq.index.array[0].left\n",
    "    lMo = d_freq.index.array[idx_modal].left.array\n",
    "    FMo = d_freq.iloc[idx_modal]['Frequência'].array\n",
    "    FPos = encontra_freq_posterior(d_freq)\n",
    "    FAnt = encontra_freq_anterior(d_freq)\n",
    "    return lMo + (h*(FMo-FAnt))/(2*FMo - (FAnt+FPos))"
   ]
  },
  {
   "cell_type": "code",
   "execution_count": null,
   "metadata": {},
   "outputs": [],
   "source": [
    "moda_dist_freq(dist_freq(z))"
   ]
  },
  {
   "cell_type": "code",
   "execution_count": null,
   "metadata": {},
   "outputs": [],
   "source": [
    "moda_dist_freq(dist_freq(dados))"
   ]
  },
  {
   "cell_type": "markdown",
   "metadata": {
    "slideshow": {
     "slide_type": "slide"
    }
   },
   "source": [
    "### Mediana\n",
    "\n",
    "* Definimos a mediana de um conjunto de dados como o valor que divide um o *rol de dados* em duas partes com a mesma quantidade de dados.\n",
    "\n",
    "* Notação: representamos a mediana de um conjunto de dados por $Md$.\n",
    "\n",
    "* O *elemento mediano*, $E_{\\rm  Md}$, aponta o local no *rol de dados* onde a mediana está localizada.  A mediana será o valor assumido na posição $E_{\\rm  Md}$. \n",
    "\n",
    "    * Se o tamanho amostral $n$ é ímpar, temos que $E_{\\rm  Md} = \\frac{(n+1)}{2}$. \n",
    "\n",
    "    * Caso tamanho amostral seja par, teremos dois valores possíveis para o elemento mediano: $\\frac{n}{2}$ e $\\frac{n}{2}+1$. Neste caso a mediana será a média dos valores assumidos nestas posições."
   ]
  },
  {
   "cell_type": "markdown",
   "metadata": {
    "slideshow": {
     "slide_type": "slide"
    }
   },
   "source": [
    "* Exemplos:\n",
    "\n",
    "    * 1, 2, 4, 5, 8. Como $n$ é ímpar, temos $E_{\\rm  Md} = 3$, e $Md = 4$.\n",
    "\n",
    "    * 2, 2, 3, 7, 8, 10. Aqui $n$ é par, assim $E_{\\rm  Md,1} = \\frac{6}{2} = 3$ e  $E_{\\rm Md,2} = \\frac{6}{2}+1 = 4$. Daí ${ Md} = \\frac{3+7}{2} = 5$.\n",
    "    \n",
    "* Para Series e DataFrames o método **median()** retorna a mediana dos valores."
   ]
  },
  {
   "cell_type": "code",
   "execution_count": null,
   "metadata": {},
   "outputs": [],
   "source": [
    "pd.Series(dados).median()"
   ]
  },
  {
   "cell_type": "code",
   "execution_count": null,
   "metadata": {},
   "outputs": [],
   "source": [
    "pd.Series(z).median()"
   ]
  },
  {
   "cell_type": "markdown",
   "metadata": {
    "slideshow": {
     "slide_type": "slide"
    }
   },
   "source": [
    "#### Mediana em dados agrupados em intervalos\n",
    "\n",
    "* Neste caso, utilizamos $E_{\\rm Md} = \\frac{n}{2}$ independentemente de $n$ ser par ou ímpar.\n",
    "\n",
    "* A *classe mediana* é a primeira classe tal que $F_{\\rm ac} \\geq E_{\\rm Md}$."
   ]
  },
  {
   "cell_type": "markdown",
   "metadata": {
    "slideshow": {
     "slide_type": "slide"
    }
   },
   "source": [
    "* Definimos a *mediana* pela fórmula\n",
    "\n",
    "$$\n",
    "{\\rm Md} = l_{\\rm Md} + h\\cdot\\left[ \\frac{E_{\\rm Md} - F_{\\rm ac,ant}}{F_{\\rm Md}}\\right],\n",
    "$$\n",
    "\n",
    "onde,\n",
    "\n",
    "$l_{\\rm Md}$ é o limite inferior da *classe mediana*,\n",
    "\n",
    "$h$ é a amplitude do intervalo,\n",
    "\n",
    "$F_{\\rm ac,ant}$ é a frequência acumulada da classe anterior à *classe mediana*,\n",
    "\n",
    "$F_{\\rm Md}$ é a frequência da *classe mediana*."
   ]
  },
  {
   "cell_type": "markdown",
   "metadata": {
    "slideshow": {
     "slide_type": "slide"
    }
   },
   "source": [
    "* Para Series e DataFrames o método **cumsum()** retorna a soma acumulada dos valores."
   ]
  },
  {
   "cell_type": "code",
   "execution_count": null,
   "metadata": {
    "slideshow": {
     "slide_type": "-"
    }
   },
   "outputs": [],
   "source": [
    "d_freq_temp = dist_freq(dados, exibir_total=False)\n",
    "d_freq_temp['Freq Acumulada'] = d_freq_temp['Frequência'].cumsum()\n",
    "d_freq_temp"
   ]
  },
  {
   "cell_type": "code",
   "execution_count": null,
   "metadata": {
    "slideshow": {
     "slide_type": "slide"
    }
   },
   "outputs": [],
   "source": [
    "def mediana_dist_freq(d_freq):\n",
    "    if(type(d_freq.index.array).__name__ != 'IntervalArray'):\n",
    "        d_freq = d_freq.head(-1).copy()\n",
    "        d_freq.index = d_freq.index.array.astype(pd.arrays.IntervalArray)\n",
    "    n_obs = d_freq['Frequência'].sum()\n",
    "    h = d_freq.index.array[0].right-d_freq.index.array[0].left\n",
    "    d_freq['Freq Acumulada'] = d_freq['Frequência'].cumsum()\n",
    "    lMd = (d_freq[d_freq['Freq Acumulada'] >= n_obs/2].iloc[0]).name.left\n",
    "    EMd = n_obs/2\n",
    "    FMd = d_freq[d_freq['Freq Acumulada'] >= n_obs/2].iloc[0]['Frequência']\n",
    "    if (d_freq['Freq Acumulada'] < n_obs/2).any():\n",
    "        FAcAnt = d_freq[d_freq['Freq Acumulada'] < n_obs/2].iloc[-1]['Freq Acumulada']\n",
    "    else:\n",
    "        FAcAnt = 0\n",
    "    return lMd + h*(EMd-FAcAnt)/FMd\n",
    "    "
   ]
  },
  {
   "cell_type": "code",
   "execution_count": null,
   "metadata": {},
   "outputs": [],
   "source": [
    "mediana_dist_freq(dist_freq(z))"
   ]
  },
  {
   "cell_type": "code",
   "execution_count": null,
   "metadata": {},
   "outputs": [],
   "source": [
    "mediana_dist_freq(dist_freq(dados))"
   ]
  },
  {
   "cell_type": "markdown",
   "metadata": {
    "slideshow": {
     "slide_type": "slide"
    }
   },
   "source": [
    "## Medidas de Dispersão\n",
    "\n",
    "\n",
    "* As medidas de dispersão medem o grau de variabilidade dos elementos de uma distribuição;\n",
    "\n",
    "* O valor zero indica ausência de dispersão;\n",
    "\n",
    "* A dispersão aumenta à medida que aumenta o valor da medida de dispersão.\n",
    "\n",
    "* As principais Medidas de Dispersão: *Amplitude*, *Desvio Médio*, *Variância*, *Desvio Padrão*."
   ]
  },
  {
   "cell_type": "markdown",
   "metadata": {
    "slideshow": {
     "slide_type": "slide"
    }
   },
   "source": [
    "* Motivação para as medidas de dispersão\n",
    "\n",
    "|Alunos||| Notas||| Média|\n",
    "|:--:|:--:|:--:|:--:|:--:|:--:|:--:|\n",
    "|Antônio|5|5|5|5|5|5|\n",
    "|João |6|4|5|4|6|5|\n",
    "|José |10|5|5|5|0|5|\n",
    "|Pedro |10|10|5|0|0|5|\n",
    "\n",
    "\n",
    "* Observa-se que:\n",
    "    * As notas de Antônio não variaram;\n",
    "\n",
    "    * As notas de João variaram menos do que as notas de José;\n",
    "\n",
    "    * As notas de Pedro variaram mais do que as notas de todos os outros alunos."
   ]
  },
  {
   "cell_type": "markdown",
   "metadata": {
    "slideshow": {
     "slide_type": "slide"
    }
   },
   "source": [
    "### Amplitude\n",
    "\n",
    "* A amplitude nos fornece uma idéia do campo de variação dos elementos. Mais precisamente, ela fornece a maior variação possível dos dados.\n",
    "\n",
    "* A amplitude é dada pela fórmula:\n",
    "$$\n",
    "R = X_{\\max} -  X_{\\min}.\n",
    "$$\n",
    "onde, $X_{\\max}$ é o máximo dos valores nos dados e  $X_{\\min}$ é o mínimo dos valores nos dados.\n",
    "* Para Series e DataFrames os métodos **max()** e **min()** retornam respectivamente o máximo e mínimo dos valores."
   ]
  },
  {
   "cell_type": "code",
   "execution_count": null,
   "metadata": {},
   "outputs": [],
   "source": [
    "R = pd.Series(dados).max()-pd.Series(dados).min(); R"
   ]
  },
  {
   "cell_type": "markdown",
   "metadata": {
    "slideshow": {
     "slide_type": "slide"
    }
   },
   "source": [
    "### Desvio Médio\n",
    "\n",
    "* Desejando-se medir a dispersão dos dados em relação a média, parece interessante a análise dos desvios em torno da média. Isto é, análise dos desvios:\n",
    "\n",
    "$$\n",
    "d_i=(X_i-\\overline{X}).\n",
    "$$\n",
    "\n",
    "* Mas a soma de todos os desvios é igual a zero. Isto é:\n",
    "\n",
    "$$\n",
    "\\sum_{i=1}^{n} d_i= \\sum_{i=1}^{n} (X_i-\\overline{X})= \\sum_{i=1}^{n}X_i-\\sum_{i=1}^{n}\\overline{X}=\\sum_{i=1}^{n}X_i-{n}\\overline{X}=\n",
    "$$\n",
    "\n",
    "$$\n",
    "=\\sum_{i=1}^{n}X_i-n\\frac{\\sum_{i=1}^{n}X_i}{n}= \\sum_{i=1}^{n}X_i-\\sum_{i=1}^{n}X_i=0.\n",
    "$$"
   ]
  },
  {
   "cell_type": "markdown",
   "metadata": {
    "slideshow": {
     "slide_type": "slide"
    }
   },
   "source": [
    "* Logo, será preciso encontrar uma maneira de se trabalhar com os desvios sem que a soma dê zero. Dessa forma, define-se o *desvio médio*.\n",
    "\n",
    "* Notação: representamos o *desvio médio* de um conjunto de dados por $DM$.\n",
    "\n",
    "* Portanto, definimos o *desvio médio* pela fórmula:\n",
    "$$\n",
    "DM=\\sum_{i=1}^{n} \\frac{|d_i|}{n}= \\sum_{i=1}^{n} \\frac{|X_i-\\overline{X}|}{n}.\n",
    "$$\n",
    "* Para Series e DataFrames o método **mad()** retorna a *desvio médio* dos valores."
   ]
  },
  {
   "cell_type": "code",
   "execution_count": null,
   "metadata": {},
   "outputs": [],
   "source": [
    "pd.Series(dados).mad()"
   ]
  },
  {
   "cell_type": "code",
   "execution_count": null,
   "metadata": {},
   "outputs": [],
   "source": [
    "pd.Series(z).mad()"
   ]
  },
  {
   "cell_type": "markdown",
   "metadata": {
    "slideshow": {
     "slide_type": "slide"
    }
   },
   "source": [
    "#### Desvio médio em dados agrupados em intervalos\n",
    "\n",
    "* No caso em que temos os dados agrupados em intervalos, utilizamos a frequência e o ponto médio de cada classes para calcular a *desvio médio* pela fórmula:\n",
    "\n",
    "$$\n",
    "DM=\\sum_{i=1}^{K} \\frac{|d_i|\\cdot F_i}{n}= \\sum_{i=1}^{K} \\frac{|pm_i-\\overline{X}|\\cdot F_i}{n}.\n",
    "$$\n",
    "\n",
    "onde $K$ é o número de classes, $F_i$ é a frequência da $i$-ésima classe e  $pm_i$ é o ponto médio da $i$-ésima classe."
   ]
  },
  {
   "cell_type": "code",
   "execution_count": null,
   "metadata": {
    "slideshow": {
     "slide_type": "slide"
    }
   },
   "outputs": [],
   "source": [
    "def dm_dist_freq(d_freq):\n",
    "    if(type(d_freq.index.array).__name__ != 'IntervalArray'):\n",
    "        d_freq = d_freq.head(-1).copy()\n",
    "    intervalos = d_freq.index.array\n",
    "    d_freq['Ponto Médio'] = [(intervalo.left+intervalo.right)/2 for intervalo in intervalos]\n",
    "    return (d_freq['Frequência']*np.abs(d_freq['Ponto Médio'] - \n",
    "                                  media_dist_freq(d_freq))).sum()/(d_freq['Frequência'].sum())"
   ]
  },
  {
   "cell_type": "code",
   "execution_count": null,
   "metadata": {},
   "outputs": [],
   "source": [
    "dm_dist_freq(dist_freq(dados))"
   ]
  },
  {
   "cell_type": "code",
   "execution_count": null,
   "metadata": {},
   "outputs": [],
   "source": [
    "dm_dist_freq(dist_freq(z))"
   ]
  },
  {
   "cell_type": "markdown",
   "metadata": {
    "slideshow": {
     "slide_type": "slide"
    }
   },
   "source": [
    "**Observações**:\n",
    "\n",
    "* A *amplitude* não mede bem a dispersão dos dados porque, usam-se apenas os valores extremos, ao invés de utilizar todos os elementos da distribuição. \n",
    "\n",
    "* O *desvio médio* é mais vantajoso que a *amplitude*, visto que leva em consideração todos os valores da distribuição e é menos sensível a *outliers*.\n",
    "\n",
    "* No entanto, *desvio médio* não é tão frequentemente empregado no ajuste de modelos, pois não apresenta propriedades matemáticas interessantes, porém é bastante utilizado na validação e comparação de modelos."
   ]
  },
  {
   "cell_type": "markdown",
   "metadata": {
    "slideshow": {
     "slide_type": "slide"
    }
   },
   "source": [
    "### Variância\n",
    "\n",
    "* A *variância* é a medida de dispersão mais utilizada. É o quociente entre a soma dos quadrados dos desvios e o número de elementos. \n",
    "* Assim, temos a seguinte definição de *variância populacional* que a é dada pela fórmula:\n",
    "\n",
    "$$\n",
    "\\sigma^2=\\sum_{i=1}^{N} \\frac{d_i^2}{N}= \\sum_{i=1}^{N} \\frac{(X_i-\\overline{X})^2}{N}.\n",
    "$$\n",
    "onde $\\sigma^2$ indica a variância populacional e lê-se sigma ao quadrado ou sigma dois. Neste caso,  $\\overline{X}$ e $N$ da formúla representam a média populacional e o tamanho populacional, respectivamente."
   ]
  },
  {
   "cell_type": "markdown",
   "metadata": {
    "slideshow": {
     "slide_type": "slide"
    }
   },
   "source": [
    "### Variância Amostral\n",
    "\n",
    "* Temos a seguinte definição de *variância amostral* que a é dada pela fórmula:\n",
    "\n",
    "$$\n",
    "S^2=\\sum_{i=1}^{n} \\frac{d_i^2}{n-1}= \\sum_{i=1}^{n} \\frac{(X_i-\\overline{X})^2}{n-1}.\n",
    "$$\n",
    "\n",
    "* Para Series e DataFrames o método **var()** retorna a *variância amostral* dos valores. "
   ]
  },
  {
   "cell_type": "code",
   "execution_count": null,
   "metadata": {},
   "outputs": [],
   "source": [
    "pd.Series(dados).var()"
   ]
  },
  {
   "cell_type": "code",
   "execution_count": null,
   "metadata": {},
   "outputs": [],
   "source": [
    "pd.Series(z).var()"
   ]
  },
  {
   "cell_type": "markdown",
   "metadata": {
    "slideshow": {
     "slide_type": "slide"
    }
   },
   "source": [
    "#### Variância amostral em dados agrupados em intervalos\n",
    "\n",
    "* No caso em que temos os dados agrupados em intervalos, utilizamos a frequência e o ponto médio de cada classes para calcular a *variância* pela fórmula:\n",
    "\n",
    "$$\n",
    "S^2=\\sum_{i=1}^{K} \\frac{d_i^2\\cdot F_i}{n-1}= \\sum_{i=1}^{K} \\frac{(pm_i-\\overline{X})^2\\cdot F_i}{n-1}.\n",
    "$$\n",
    "\n",
    "onde $K$ é o número de classes, $F_i$ é a frequência da $i$-ésima classe e  $pm_i$ é o ponto médio da $i$-ésima classe."
   ]
  },
  {
   "cell_type": "code",
   "execution_count": null,
   "metadata": {
    "slideshow": {
     "slide_type": "slide"
    }
   },
   "outputs": [],
   "source": [
    "def var_dist_freq(d_freq):\n",
    "    if(type(d_freq.index.array).__name__ != 'IntervalArray'):\n",
    "        d_freq = d_freq.head(-1).copy()\n",
    "    intervalos = d_freq.index.array\n",
    "    d_freq['Ponto Médio'] = [(intervalo.left+intervalo.right)/2 for intervalo in intervalos]\n",
    "    return (d_freq['Frequência']*(d_freq['Ponto Médio'] - \n",
    "                                  media_dist_freq(d_freq))**2).sum()/(d_freq['Frequência'].sum()-1)"
   ]
  },
  {
   "cell_type": "code",
   "execution_count": null,
   "metadata": {},
   "outputs": [],
   "source": [
    "var_dist_freq(dist_freq(dados))"
   ]
  },
  {
   "cell_type": "code",
   "execution_count": null,
   "metadata": {},
   "outputs": [],
   "source": [
    "var_dist_freq(dist_freq(z))"
   ]
  },
  {
   "cell_type": "markdown",
   "metadata": {
    "slideshow": {
     "slide_type": "slide"
    }
   },
   "source": [
    "### Desvio Padrão\n",
    "\n",
    "* Temos também outra medida de dispersão, que é a raiz quadrada da variância, chamada de *desvio padrão*. Assim,\n",
    "\n",
    "$$\n",
    "\\sigma = \\sqrt{\\sigma^2} \\quad \\hbox{é o desvio desvio padrão populacional}\n",
    "$$\n",
    "\n",
    "e\n",
    "\n",
    "$$\n",
    "S = \\sqrt{S^2} \\quad \\hbox{é o desvio desvio padrão amostral.}\n",
    "$$\n",
    "\n",
    "* Para o cálculo do *desvio padrão* deve-se primeiramente determinar o valor da variância e, em seguida, extrair a raiz quadrada desse resultado.\n",
    "* Para Series e DataFrames o método **std()** retorna a *variância amostral* dos valores. "
   ]
  },
  {
   "cell_type": "code",
   "execution_count": null,
   "metadata": {
    "slideshow": {
     "slide_type": "slide"
    }
   },
   "outputs": [],
   "source": [
    "pd.Series(dados).std()"
   ]
  },
  {
   "cell_type": "code",
   "execution_count": null,
   "metadata": {},
   "outputs": [],
   "source": [
    "np.sqrt(pd.Series(dados).var())"
   ]
  },
  {
   "cell_type": "code",
   "execution_count": null,
   "metadata": {
    "slideshow": {
     "slide_type": "-"
    }
   },
   "outputs": [],
   "source": [
    "pd.Series(z).std()"
   ]
  },
  {
   "cell_type": "code",
   "execution_count": null,
   "metadata": {
    "slideshow": {
     "slide_type": "-"
    }
   },
   "outputs": [],
   "source": [
    "np.sqrt(pd.Series(z).var())"
   ]
  },
  {
   "cell_type": "markdown",
   "metadata": {
    "slideshow": {
     "slide_type": "slide"
    }
   },
   "source": [
    "#### Desvio Padrão para dados agrupados em intervalos"
   ]
  },
  {
   "cell_type": "code",
   "execution_count": null,
   "metadata": {},
   "outputs": [],
   "source": [
    "def dp_dist_freq(d_freq):\n",
    "    return np.sqrt(var_dist_freq(d_freq))"
   ]
  },
  {
   "cell_type": "code",
   "execution_count": null,
   "metadata": {},
   "outputs": [],
   "source": [
    "dp_dist_freq(dist_freq(dados))"
   ]
  },
  {
   "cell_type": "code",
   "execution_count": null,
   "metadata": {},
   "outputs": [],
   "source": [
    "dp_dist_freq(dist_freq(z))"
   ]
  },
  {
   "cell_type": "markdown",
   "metadata": {
    "slideshow": {
     "slide_type": "slide"
    }
   },
   "source": [
    "## Resumo Estatístico de uma *Serie* ou *DataFrame*\n",
    "\n",
    "Para obtermos um resumo estatístico de uma *Serie* ou *DataFrame* do *pandas* utilizamos o método **describe**.\n",
    "\n",
    "O método **describe** exclui observações faltantes por padrão."
   ]
  },
  {
   "cell_type": "markdown",
   "metadata": {
    "slideshow": {
     "slide_type": "slide"
    }
   },
   "source": [
    "Exemplos:"
   ]
  },
  {
   "cell_type": "code",
   "execution_count": null,
   "metadata": {
    "slideshow": {
     "slide_type": "-"
    }
   },
   "outputs": [],
   "source": [
    "pd.Series(dados).describe()"
   ]
  },
  {
   "cell_type": "code",
   "execution_count": null,
   "metadata": {
    "slideshow": {
     "slide_type": "-"
    }
   },
   "outputs": [],
   "source": [
    "pd.DataFrame(z).describe()"
   ]
  },
  {
   "cell_type": "markdown",
   "metadata": {
    "slideshow": {
     "slide_type": "slide"
    }
   },
   "source": [
    "**Observações**\n",
    "\n",
    "* Se as entradas da *Serie* não forem numéricas o método *describe* retornará uma tabela contendo as quantidades de valores únicos, qual o valor mais frequente e qual a quantidade de elementos do valor mais frequente.\n",
    "\n",
    "* No caso de um *DataFrame* que contenha colunas numéricas e colunas não-numéricas, o método *describe* só irá considerar as colunas numéricas."
   ]
  },
  {
   "cell_type": "markdown",
   "metadata": {
    "slideshow": {
     "slide_type": "slide"
    }
   },
   "source": [
    "Exemplos:"
   ]
  },
  {
   "cell_type": "code",
   "execution_count": null,
   "metadata": {
    "slideshow": {
     "slide_type": "-"
    }
   },
   "outputs": [],
   "source": [
    "serie_ex1 = pd.Series(['a','b','c','d','e','f','g','h','i','j'])\n",
    "serie_ex2 = pd.Series(range(10))"
   ]
  },
  {
   "cell_type": "code",
   "execution_count": null,
   "metadata": {},
   "outputs": [],
   "source": [
    "serie_ex1.describe()"
   ]
  },
  {
   "cell_type": "code",
   "execution_count": null,
   "metadata": {},
   "outputs": [],
   "source": [
    "serie_ex2.describe()"
   ]
  },
  {
   "cell_type": "markdown",
   "metadata": {
    "slideshow": {
     "slide_type": "slide"
    }
   },
   "source": [
    "Exemplo:"
   ]
  },
  {
   "cell_type": "code",
   "execution_count": null,
   "metadata": {},
   "outputs": [],
   "source": [
    "df_exemplo = pd.concat([serie_ex1, serie_ex2], axis=1)"
   ]
  },
  {
   "cell_type": "code",
   "execution_count": null,
   "metadata": {
    "slideshow": {
     "slide_type": "-"
    }
   },
   "outputs": [],
   "source": [
    "df_exemplo"
   ]
  },
  {
   "cell_type": "markdown",
   "metadata": {
    "slideshow": {
     "slide_type": "slide"
    }
   },
   "source": [
    "Exemplo:"
   ]
  },
  {
   "cell_type": "code",
   "execution_count": null,
   "metadata": {},
   "outputs": [],
   "source": [
    "df_exemplo.describe()"
   ]
  },
  {
   "cell_type": "markdown",
   "metadata": {
    "slideshow": {
     "slide_type": "slide"
    }
   },
   "source": [
    "**Observação**: Podemos controlar o que será considerado no describe utilizando os argumentos *include* ou *exclude*. No caso, devemos colocar como argumento uma lista contendo os tipos a serem incluídos ou excluídos. Existem vários tipos que podem ser considerados para serem incluídos ou excluídos. Para uma lista dos tipos disponíveis, por favor consultem a documentação da função **select_dtypes()**."
   ]
  },
  {
   "cell_type": "markdown",
   "metadata": {
    "slideshow": {
     "slide_type": "slide"
    }
   },
   "source": [
    "Exemplos:"
   ]
  },
  {
   "cell_type": "code",
   "execution_count": null,
   "metadata": {
    "slideshow": {
     "slide_type": "-"
    }
   },
   "outputs": [],
   "source": [
    "df_exemplo.describe(exclude='number')"
   ]
  },
  {
   "cell_type": "code",
   "execution_count": null,
   "metadata": {},
   "outputs": [],
   "source": [
    "df_exemplo.describe(include='object')"
   ]
  },
  {
   "cell_type": "markdown",
   "metadata": {
    "slideshow": {
     "slide_type": "slide"
    }
   },
   "source": [
    "Exemplo:"
   ]
  },
  {
   "cell_type": "code",
   "execution_count": null,
   "metadata": {
    "slideshow": {
     "slide_type": "-"
    }
   },
   "outputs": [],
   "source": [
    "df_exemplo.describe(include='all')"
   ]
  }
 ],
 "metadata": {
  "celltoolbar": "Slideshow",
  "kernelspec": {
   "display_name": "Python 3",
   "language": "python",
   "name": "python3"
  },
  "language_info": {
   "codemirror_mode": {
    "name": "ipython",
    "version": 3
   },
   "file_extension": ".py",
   "mimetype": "text/x-python",
   "name": "python",
   "nbconvert_exporter": "python",
   "pygments_lexer": "ipython3",
   "version": "3.7.6"
  },
  "latex_metadata": {
   "affiliation": "Departamento de Computação Científica / UFPB",
   "author": "Gustavo Oliveira e Andréa Rocha",
   "date": "Julho de 2020",
   "title": "Aula 8B - Estatística Descritiva"
  },
  "rise": {
   "enable_chalkboard": true,
   "footer": "UFPB - CI - DCC",
   "header": "Gustavo Oliveira / Andrea Rocha",
   "theme": "sky"
  }
 },
 "nbformat": 4,
 "nbformat_minor": 4
}
