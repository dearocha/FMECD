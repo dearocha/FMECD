{
 "cells": [
  {
   "cell_type": "markdown",
   "metadata": {
    "slideshow": {
     "slide_type": "slide"
    }
   },
   "source": [
    "# Visualização Gráfica de Dados\n",
    "## As bibliotecas *matplotlib* e *plotly*"
   ]
  },
  {
   "cell_type": "markdown",
   "metadata": {},
   "source": [
    "Vamos começar refazendo os gráficos que fizemos anteriormente com o método **plot** dos *DataFrames* e *Series* utilizando as funções do **matplotlib.pyplot**."
   ]
  },
  {
   "cell_type": "markdown",
   "metadata": {
    "slideshow": {
     "slide_type": "-"
    }
   },
   "source": [
    "O **matplotlib** transforma os dados em gráficos através de duas componentes: **figuras** (por exemplo janelas) e **eixos** (uma região onde os pontos podem ser determinados por meio de coordenadas). Se temos uma figura bidimensional, tipicamente os eixos são *x*-*y*, mas podemos ter coordenadas polares também. Se temos uma figura tridimensional, os eixos tipicamente são *x*-*y*-*z*, mas também podemos ter coordenadas esféricas, cilíndricas, etc.\n",
    "\n",
    "Como as figuras são determinadas pelas posições no plano ou no espaço, utilizamos com mais frequência os **eixos** de um objeto do **matplotlib**."
   ]
  },
  {
   "cell_type": "code",
   "execution_count": null,
   "metadata": {
    "slideshow": {
     "slide_type": "slide"
    }
   },
   "outputs": [],
   "source": [
    "import numpy as np\n",
    "import pandas as pd\n",
    "import matplotlib.pyplot as plt # Aqui utilizaremos a biblioteca matplotlib"
   ]
  },
  {
   "cell_type": "code",
   "execution_count": null,
   "metadata": {},
   "outputs": [],
   "source": [
    "serie_Idade = pd.Series({'Ana':20, 'João': 19, 'Maria': 21, 'Pedro': 22, 'Túlio': 20}, name=\"Idade\")\n",
    "serie_Peso = pd.Series({'Ana':55, 'João': 80, 'Maria': 62, 'Pedro': 67, 'Túlio': 73}, name=\"Peso\")\n",
    "serie_Altura = pd.Series({'Ana':162, 'João': 178, 'Maria': 162, 'Pedro': 165, 'Túlio': 171}, name=\"Altura\")"
   ]
  },
  {
   "cell_type": "code",
   "execution_count": null,
   "metadata": {},
   "outputs": [],
   "source": [
    "dicionario_series_exemplo = {'Idade': serie_Idade, 'Peso': serie_Peso, 'Altura': serie_Altura}"
   ]
  },
  {
   "cell_type": "code",
   "execution_count": null,
   "metadata": {},
   "outputs": [],
   "source": [
    "df_dict_series = pd.DataFrame(dicionario_series_exemplo);df_dict_series"
   ]
  },
  {
   "cell_type": "code",
   "execution_count": null,
   "metadata": {
    "slideshow": {
     "slide_type": "slide"
    }
   },
   "outputs": [],
   "source": [
    "df_exemplo = pd.read_csv('exemplo_data.csv', index_col=0)\n",
    "df_exemplo['coluna_3'] = pd.Series([1,2,3,4,5,6,7,8,np.nan,np.nan],index=df_exemplo.index)\n",
    "df_exemplo"
   ]
  },
  {
   "cell_type": "code",
   "execution_count": null,
   "metadata": {
    "slideshow": {
     "slide_type": "slide"
    }
   },
   "outputs": [],
   "source": [
    "covid_PB = pd.read_csv('https://superset.plataformatarget.com.br/superset/explore_json/?form_data=%7B%22slice_id%22%3A1550%7D&csv=true', \n",
    "                             sep=';', index_col=0)\n",
    "covid_PB.head()"
   ]
  },
  {
   "cell_type": "code",
   "execution_count": null,
   "metadata": {
    "slideshow": {
     "slide_type": "slide"
    }
   },
   "outputs": [],
   "source": [
    "covid_BR = pd.read_csv(\"HIST_PAINEL_COVIDBR_18jul2020.csv\", low_memory=False)\n",
    "covid_BR.head()"
   ]
  },
  {
   "cell_type": "markdown",
   "metadata": {
    "slideshow": {
     "slide_type": "slide"
    }
   },
   "source": [
    "## Gráfico de Linhas"
   ]
  },
  {
   "cell_type": "code",
   "execution_count": null,
   "metadata": {},
   "outputs": [],
   "source": [
    "fig, ax = plt.subplots()  # Este comando cria uma figura com um eixo\n",
    "ax.plot(df_exemplo.index, df_exemplo['coluna_1'], label = 'Primeira Coluna') # Inserimos a linha relativa à coluna 1\n",
    "ax.plot(df_exemplo.index, df_exemplo['coluna_2'], label = 'Segunda Coluna') # Inserimos a linha relativa à coluna 2\n",
    "ax.plot(df_exemplo.index, df_exemplo['coluna_3'], label = 'Terceira Coluna') # Inserimos a linha relativa à coluna 3\n",
    "ax.set_xlabel('Data') # Rótulo do eixo x\n",
    "ax.set_ylabel('Valor') # Rótulo do eixo y\n",
    "ax.set_title(\"Gráfico do df_exemplo\")\n",
    "ax.legend()"
   ]
  },
  {
   "cell_type": "code",
   "execution_count": null,
   "metadata": {
    "slideshow": {
     "slide_type": "slide"
    }
   },
   "outputs": [],
   "source": [
    "fig, ax = plt.subplots()  # Este comando cria uma figura com um eixo\n",
    "ax.plot(df_exemplo.index, df_exemplo['coluna_1'], label = 'Primeira Coluna', \n",
    "        color = 'red') # Inserimos a linha relativa à coluna 1, definimos a cor vermelha\n",
    "ax.plot(df_exemplo.index, df_exemplo['coluna_2'], \n",
    "        label = 'Segunda Coluna', linewidth=6.0) # Inserimos a linha relativa à coluna 2 e aumentamos a grossura da linha\n",
    "ax.plot(df_exemplo.index, df_exemplo['coluna_3'], label = 'Terceira Coluna') # Inserimos a linha relativa à coluna 3\n",
    "ax.set_xlabel('Data') # Rótulo do eixo x\n",
    "ax.set_ylabel('Valor') # Rótulo do eixo y\n",
    "ax.set_title(\"Gráfico do df_exemplo\")\n",
    "ax.legend()\n",
    "fig.autofmt_xdate()"
   ]
  },
  {
   "cell_type": "code",
   "execution_count": null,
   "metadata": {
    "slideshow": {
     "slide_type": "slide"
    }
   },
   "outputs": [],
   "source": [
    "covid_PB.index = pd.to_datetime(covid_PB.index)\n",
    "covid_PB_casos_obitos = covid_PB[['casosAcumulados', 'obitosAcumulados']].sort_index()\n",
    "fig, ax = plt.subplots()  \n",
    "ax.plot(covid_PB_casos_obitos.index, covid_PB_casos_obitos['casosAcumulados'], label = 'Total de Casos', \n",
    "        color = 'red') \n",
    "ax.plot(covid_PB_casos_obitos.index, covid_PB_casos_obitos['obitosAcumulados'], \n",
    "        label = 'Total de Óbitos', color = 'black')\n",
    "ax.set_xlabel('Data') # Rótulo do eixo x\n",
    "ax.set_ylabel('Total') # Rótulo do eixo y\n",
    "ax.set_title(\"Casos e Óbitos de COVID-19 na Paraíba\")\n",
    "ax.legend()\n",
    "fig.autofmt_xdate()"
   ]
  },
  {
   "cell_type": "markdown",
   "metadata": {
    "slideshow": {
     "slide_type": "slide"
    }
   },
   "source": [
    "Podemos alterar a apresentação das datas utilizando o subpacote *dates* do *matplotlib*."
   ]
  },
  {
   "cell_type": "code",
   "execution_count": null,
   "metadata": {},
   "outputs": [],
   "source": [
    "import matplotlib.dates as mdates"
   ]
  },
  {
   "cell_type": "code",
   "execution_count": null,
   "metadata": {},
   "outputs": [],
   "source": [
    "fig, ax = plt.subplots()  \n",
    "ax.plot(covid_PB_casos_obitos.index, covid_PB_casos_obitos['casosAcumulados'], label = 'Total de Casos', color = 'red') \n",
    "ax.plot(covid_PB_casos_obitos.index, covid_PB_casos_obitos['obitosAcumulados'], label = 'Total de Óbitos', color = 'black')\n",
    "ax.set_xlabel('Data') # Rótulo do eixo x\n",
    "ax.set_ylabel('Total') # Rótulo do eixo y\n",
    "ax.set_title(\"Casos e Óbitos de COVID-19 na Paraíba\")\n",
    "ax.legend()\n",
    "ax.xaxis.set_minor_locator(mdates.DayLocator(interval=7)) #Intervalo entre os tracinhos\n",
    "ax.xaxis.set_major_locator(mdates.DayLocator(interval=21)) #Intervalo entre as datas\n",
    "ax.xaxis.set_major_formatter(mdates.DateFormatter('%d/%m/%Y')) #Formato da data\n",
    "fig.autofmt_xdate()"
   ]
  },
  {
   "cell_type": "markdown",
   "metadata": {
    "slideshow": {
     "slide_type": "slide"
    }
   },
   "source": [
    "Vamos agora alterar o formato dos números do eixo *y*. Para tanto iremos definir uma função para realizar a formatação e utilizaremos a função *FuncFormatter* do subpacote *matplotlib.ticker*."
   ]
  },
  {
   "cell_type": "code",
   "execution_count": null,
   "metadata": {},
   "outputs": [],
   "source": [
    "from matplotlib.ticker import FuncFormatter"
   ]
  },
  {
   "cell_type": "code",
   "execution_count": null,
   "metadata": {
    "slideshow": {
     "slide_type": "slide"
    }
   },
   "outputs": [],
   "source": [
    "def inserir_mil(x, pos):\n",
    "    return '%1i mil' % (x*1e-3) if x != 0 else 0\n",
    "fig, ax = plt.subplots()  \n",
    "ax.plot(covid_PB_casos_obitos.index, covid_PB_casos_obitos['casosAcumulados'], label = 'Total de Casos', color = 'red') \n",
    "ax.plot(covid_PB_casos_obitos.index, covid_PB_casos_obitos['obitosAcumulados'], label = 'Total de Óbitos', color = 'black')\n",
    "ax.set_xlabel('Data') # Rótulo do eixo x\n",
    "ax.set_ylabel('Total') # Rótulo do eixo y\n",
    "ax.set_title(\"Casos e Óbitos de COVID-19 na Paraíba\")\n",
    "ax.legend()\n",
    "ax.xaxis.set_minor_locator(mdates.DayLocator(interval=7)) #Intervalo entre os tracinhos\n",
    "ax.xaxis.set_major_locator(mdates.DayLocator(interval=21)) #Intervalo entre as datas\n",
    "ax.xaxis.set_major_formatter(mdates.DateFormatter('%d/%m/%Y')) #Formato da data\n",
    "fig.autofmt_xdate()\n",
    "ax.yaxis.set_major_formatter(FuncFormatter(inserir_mil))"
   ]
  },
  {
   "cell_type": "code",
   "execution_count": null,
   "metadata": {
    "slideshow": {
     "slide_type": "slide"
    }
   },
   "outputs": [],
   "source": [
    "covid_regioes = pd.DataFrame()\n",
    "\n",
    "regioes = covid_BR.query('regiao != \"Brasil\"')['regiao'].drop_duplicates().array\n",
    "\n",
    "for regiao in regioes:\n",
    "    temp_series = covid_BR.set_index('data').query('regiao == @regiao')['obitosAcumulado'].groupby('data').sum()/2\n",
    "    #Obs.: Utilizamos @ na frente do nome da variável para utilizar o valor da variável no query.\n",
    "    #Obs.: Dividimos por 2, pois os óbitos estão sendo contados duas vezes, \n",
    "    #uma para quando codmun == nan e outra quando não é nulo\n",
    "    temp_series.name = 'obitos_' + regiao\n",
    "    covid_regioes = pd.concat([covid_regioes, temp_series], axis=1)\n",
    "    \n",
    "covid_regioes.index = pd.to_datetime(covid_regioes.index)\n",
    "covid_regioes"
   ]
  },
  {
   "cell_type": "code",
   "execution_count": null,
   "metadata": {
    "slideshow": {
     "slide_type": "slide"
    }
   },
   "outputs": [],
   "source": [
    "fig, ax = plt.subplots()  \n",
    "ax.plot(covid_regioes.index, covid_regioes['obitos_Norte'], label = 'Norte') \n",
    "ax.plot(covid_regioes.index, covid_regioes['obitos_Nordeste'], label = 'Nordeste') \n",
    "ax.plot(covid_regioes.index, covid_regioes['obitos_Sudeste'], label = 'Sudeste') \n",
    "ax.plot(covid_regioes.index, covid_regioes['obitos_Sul'], label = 'Sul') \n",
    "ax.plot(covid_regioes.index, covid_regioes['obitos_Centro-Oeste'], label = 'Centro-Oeste') \n",
    "ax.set_xlabel('Data') # Rótulo do eixo x\n",
    "ax.set_ylabel('Total de Óbitos') # Rótulo do eixo y\n",
    "ax.set_title(\"Óbitos de COVID-19 nas regiões do Brasil\")\n",
    "ax.legend()\n",
    "ax.xaxis.set_minor_locator(mdates.DayLocator(interval=7)) #Intervalo entre os tracinhos\n",
    "ax.xaxis.set_major_locator(mdates.DayLocator(interval=21)) #Intervalo entre as datas\n",
    "ax.xaxis.set_major_formatter(mdates.DateFormatter('%d/%m/%Y')) #Formato da data\n",
    "fig.autofmt_xdate()\n",
    "ax.yaxis.set_major_formatter(FuncFormatter(inserir_mil))"
   ]
  },
  {
   "cell_type": "markdown",
   "metadata": {
    "slideshow": {
     "slide_type": "slide"
    }
   },
   "source": [
    "## Gráfico de Colunas e de Linhas"
   ]
  },
  {
   "cell_type": "code",
   "execution_count": null,
   "metadata": {},
   "outputs": [],
   "source": [
    "covid_Regioes = covid_BR[['regiao','obitosNovos']].groupby('regiao').sum().query('regiao != \"Brasil\"')/2\n",
    "fig, ax = plt.subplots()\n",
    "ax.bar(covid_Regioes.index, covid_Regioes['obitosNovos'])\n",
    "ax.yaxis.set_major_formatter(FuncFormatter(inserir_mil))\n",
    "ax.set_ylabel('Total de Óbitos') # Rótulo do eixo y\n",
    "ax.set_title(\"Óbitos de COVID-19 nas regiões do Brasil até o dia 18/07/2020\")"
   ]
  },
  {
   "cell_type": "markdown",
   "metadata": {
    "slideshow": {
     "slide_type": "slide"
    }
   },
   "source": [
    "Podemos inserir o total de cada região em cima do retângulo correspondente. Para tanto, utilizaremos a seguinte função disponível na página do *matplotlib*:"
   ]
  },
  {
   "cell_type": "code",
   "execution_count": null,
   "metadata": {},
   "outputs": [],
   "source": [
    "def autolabel(rects):\n",
    "    \"\"\"Attach a text label above each bar in *rects*, displaying its height.\"\"\"\n",
    "    for rect in rects:\n",
    "        height = rect.get_height()\n",
    "        #ax.annotate('{}'.format(height), #antigo\n",
    "        ax.annotate('{:.0f}'.format(height), #Modificamos para apresentar o número inteiro                    \n",
    "                    xy=(rect.get_x() + rect.get_width() / 2, height),\n",
    "                    xytext=(0, 3),  # 3 points vertical offset\n",
    "                    textcoords=\"offset points\",\n",
    "                    ha='center', va='bottom')"
   ]
  },
  {
   "cell_type": "code",
   "execution_count": null,
   "metadata": {
    "slideshow": {
     "slide_type": "slide"
    }
   },
   "outputs": [],
   "source": [
    "covid_Regioes = covid_BR[['regiao','obitosNovos']].groupby('regiao').sum().query('regiao != \"Brasil\"')/2\n",
    "fig, ax = plt.subplots()\n",
    "plt.ylim(0, 40000) # aumentamos o limite da coordenada y\n",
    "retangulos = ax.bar(covid_Regioes.index, covid_Regioes['obitosNovos'])\n",
    "ax.yaxis.set_major_formatter(FuncFormatter(inserir_mil))\n",
    "ax.set_ylabel('Total de Óbitos') # Rótulo do eixo y\n",
    "ax.set_title(\"Óbitos de COVID-19 nas regiões do Brasil até o dia 18/07/2020\")\n",
    "autolabel(retangulos)"
   ]
  },
  {
   "cell_type": "markdown",
   "metadata": {
    "slideshow": {
     "slide_type": "slide"
    }
   },
   "source": [
    "* Para realizarmos os \"plots\" agrupados das barras devemos realizar 5 \"plots\" distintos, um para cada barra.\n",
    "\n",
    "* Cada plot sofrerá uma translação (exceto o do meio).\n",
    "\n",
    "* Iremos reduzir a largura de cada barra."
   ]
  },
  {
   "cell_type": "code",
   "execution_count": null,
   "metadata": {
    "slideshow": {
     "slide_type": "-"
    }
   },
   "outputs": [],
   "source": [
    "covid_Regioes = covid_BR[['regiao','obitosNovos']].groupby('regiao').sum().query('regiao != \"Brasil\"')/2\n",
    "largura = 0.3"
   ]
  },
  {
   "cell_type": "code",
   "execution_count": null,
   "metadata": {
    "slideshow": {
     "slide_type": "slide"
    }
   },
   "outputs": [],
   "source": [
    "fig, ax = plt.subplots()\n",
    "retangulo1 = ax.bar([-2*largura], covid_Regioes.loc[['Norte'],['obitosNovos']].to_numpy()[0], largura, label='Norte')\n",
    "retangulo2 = ax.bar([-largura], covid_Regioes.loc[['Nordeste'],['obitosNovos']].to_numpy()[0], largura, label='Nordeste')\n",
    "retangulo3 = ax.bar([0], covid_Regioes.loc[['Centro-Oeste'],['obitosNovos']].to_numpy()[0], largura, label='Centro-Oeste')\n",
    "retangulo4 = ax.bar([largura], covid_Regioes.loc[['Sudeste'],['obitosNovos']].to_numpy()[0], largura, label='Sudeste')\n",
    "retangulo5 = ax.bar([2*largura], covid_Regioes.loc[['Sul'],['obitosNovos']].to_numpy()[0], largura, label='Sul')\n",
    "ax.yaxis.set_major_formatter(FuncFormatter(inserir_mil))\n",
    "ax.set_ylabel('Total de Óbitos') # Rótulo do eixo y\n",
    "ax.set_title(\"Óbitos de COVID-19 nas regiões do Brasil até o dia 18/07/2020\")\n",
    "autolabel(retangulo1); autolabel(retangulo2); autolabel(retangulo3); autolabel(retangulo4); autolabel(retangulo5)\n",
    "plt.ylim(0, 40000) # aumentamos o limite da coordenada y\n",
    "plt.xlim(-1, 1.3) # Limites que iremos utilizar na coordenada y\n",
    "plt.xticks([], []) # Remover os \"ticks\" no eixo x\n",
    "#plt.xticks([0], ['Região']) # Se quisermos incluir o rótulo \"Região\" na posição 0 do eixo x\n",
    "ax.legend(title=\"Região\")"
   ]
  },
  {
   "cell_type": "markdown",
   "metadata": {
    "slideshow": {
     "slide_type": "slide"
    }
   },
   "source": [
    "Para empilharmos as barras manualmente devemos utilizar o argumento **bottom**:"
   ]
  },
  {
   "cell_type": "code",
   "execution_count": null,
   "metadata": {},
   "outputs": [],
   "source": [
    "largura = 0.25\n",
    "obitos_norte = covid_Regioes.loc[['Norte'],['obitosNovos']].to_numpy()[0]\n",
    "obitos_nordeste = covid_Regioes.loc[['Nordeste'],['obitosNovos']].to_numpy()[0]\n",
    "obitos_centro_oeste = covid_Regioes.loc[['Centro-Oeste'],['obitosNovos']].to_numpy()[0]\n",
    "obitos_sudeste = covid_Regioes.loc[['Sudeste'],['obitosNovos']].to_numpy()[0]\n",
    "obitos_sul = covid_Regioes.loc[['Sul'],['obitosNovos']].to_numpy()[0]"
   ]
  },
  {
   "cell_type": "code",
   "execution_count": null,
   "metadata": {
    "slideshow": {
     "slide_type": "slide"
    }
   },
   "outputs": [],
   "source": [
    "fig, ax = plt.subplots()\n",
    "retangulo1 = ax.bar([0.5], obitos_norte, largura, label='Norte')\n",
    "retangulo2 = ax.bar([0.5], obitos_nordeste, largura, label='Nordeste', bottom = obitos_norte)\n",
    "retangulo3 = ax.bar([0.5], obitos_centro_oeste, largura, label='Centro-Oeste', bottom = obitos_norte + obitos_nordeste)\n",
    "retangulo4 = ax.bar([0.5], obitos_sudeste, largura, label='Sudeste', bottom = obitos_norte + \n",
    "                    obitos_nordeste + obitos_centro_oeste)\n",
    "retangulo5 = ax.bar([0.5], obitos_sul, largura, label='Sul', bottom = obitos_norte + \n",
    "                    obitos_nordeste + obitos_centro_oeste + obitos_sudeste)\n",
    "ax.yaxis.set_major_formatter(FuncFormatter(inserir_mil))\n",
    "ax.set_ylabel('Total de Óbitos') # Rótulo do eixo y\n",
    "ax.set_title(\"Óbitos de COVID-19 nas regiões do Brasil até o dia 18/07/2020\")\n",
    "plt.xticks([], [])\n",
    "#plt.xticks([0], ['Região']) # Se quisermos incluir o rótulo \"Região\" na posição 0 do eixo x\n",
    "plt.xlim(0,1)\n",
    "ax.legend(title=\"Região\")"
   ]
  },
  {
   "cell_type": "code",
   "execution_count": null,
   "metadata": {
    "slideshow": {
     "slide_type": "slide"
    }
   },
   "outputs": [],
   "source": [
    "x = np.arange(len(df_dict_series.index))\n",
    "largura = 0.25\n",
    "fig, ax = plt.subplots()\n",
    "retangulo1 = ax.bar(x - largura, df_dict_series.Idade, largura, label='Idade')\n",
    "retangulo2 = ax.bar(x, df_dict_series.Peso, largura, label='Peso')\n",
    "retangulo3 = ax.bar(x + largura, df_dict_series.Altura, largura, label='Altura')\n",
    "autolabel(retangulo1); autolabel(retangulo2); autolabel(retangulo3)\n",
    "plt.ylim(0,200)\n",
    "plt.xlim(-0.5,6)\n",
    "ax.set_ylabel('Valor')\n",
    "ax.set_title('Características')\n",
    "ax.set_xticks(x)\n",
    "ax.set_xticklabels(df_dict_series.index)\n",
    "ax.legend()"
   ]
  },
  {
   "cell_type": "code",
   "execution_count": null,
   "metadata": {
    "slideshow": {
     "slide_type": "slide"
    }
   },
   "outputs": [],
   "source": [
    "x = np.arange(len(df_dict_series.index))\n",
    "largura = 0.25\n",
    "fig, ax = plt.subplots()\n",
    "retangulo1 = ax.bar(x, df_dict_series.Idade, largura, label='Idade')\n",
    "retangulo2 = ax.bar(x, df_dict_series.Peso, largura, label='Peso', bottom = df_dict_series.Idade)\n",
    "retangulo3 = ax.bar(x, df_dict_series.Altura, largura, label='Altura', bottom = df_dict_series.Idade + df_dict_series.Peso)\n",
    "plt.xlim(-0.5,6)\n",
    "ax.set_ylabel('Valor')\n",
    "ax.set_title('Características')\n",
    "ax.set_xticks(x)\n",
    "ax.set_xticklabels(df_dict_series.index)\n",
    "ax.legend()"
   ]
  },
  {
   "cell_type": "markdown",
   "metadata": {
    "slideshow": {
     "slide_type": "slide"
    }
   },
   "source": [
    "* Para construir os gráficos de barras procedemos de maneira análoga ao que foi feito acima.\n",
    "\n",
    "* Substituímos o método **bar** por **barh**\n",
    "\n",
    "* Caso haja interesse deve modificar a função autolabel, alterando a altura, *height*, pela largura, *width*."
   ]
  },
  {
   "cell_type": "markdown",
   "metadata": {
    "slideshow": {
     "slide_type": "slide"
    }
   },
   "source": [
    "## Gráfico de Setores"
   ]
  },
  {
   "cell_type": "markdown",
   "metadata": {},
   "source": [
    "Neste caso devemos modificar o *DataFrame* para conter percentuais (ou pesos).\n",
    "\n",
    "* Vamos usar os parâmetros: \n",
    "\n",
    " * **autopct** que adiciona o percentual de cada \"fatia\".\n",
    "\n",
    " * **shadow** que adiciona sombra\n",
    "\n",
    " * **explode** que separa fatias selecionadas"
   ]
  },
  {
   "cell_type": "code",
   "execution_count": null,
   "metadata": {},
   "outputs": [],
   "source": [
    "df_dict_series_pct = df_dict_series.copy()\n",
    "df_dict_series_pct.Idade = df_dict_series_pct.Idade/df_dict_series_pct.Idade.sum()\n",
    "df_dict_series_pct.Peso = df_dict_series_pct.Peso/df_dict_series_pct.Peso.sum()\n",
    "df_dict_series_pct.Altura = df_dict_series_pct.Altura/df_dict_series_pct.Altura.sum()\n",
    "df_dict_series_pct"
   ]
  },
  {
   "cell_type": "code",
   "execution_count": null,
   "metadata": {
    "slideshow": {
     "slide_type": "slide"
    }
   },
   "outputs": [],
   "source": [
    "figs, axs = plt.subplots(1,3, figsize=(22,7)) #1 linha3 e 3 colunas de \"plots\"\n",
    "axs[0].pie(df_dict_series_pct.Idade,  labels=df_dict_series_pct.index, autopct='%1.1f%%', shadow=True)\n",
    "axs[0].axis('equal')  # Igualando os eixos para garantir que obteremos um círculo\n",
    "axs[0].legend(loc = 'upper left')\n",
    "axs[0].set_title('Idade')\n",
    "axs[1].pie(df_dict_series_pct.Peso,  labels=df_dict_series_pct.index, autopct='%1.1f%%', shadow=True)\n",
    "axs[1].axis('equal')  \n",
    "axs[1].legend(loc = 'upper left')\n",
    "axs[1].set_title('Peso')\n",
    "axs[2].pie(df_dict_series_pct.Altura,  labels=df_dict_series_pct.index, autopct='%1.1f%%', shadow=True)\n",
    "axs[2].axis('equal')  \n",
    "axs[2].legend(loc = 'upper left')\n",
    "_ = axs[2].set_title('Altura') #Atribuímos a uma variável para não termos saída"
   ]
  },
  {
   "cell_type": "code",
   "execution_count": null,
   "metadata": {
    "slideshow": {
     "slide_type": "slide"
    }
   },
   "outputs": [],
   "source": [
    "covid_Regioes_pct = covid_Regioes/covid_Regioes.sum()\n",
    "covid_Regioes_pct['explodir'] = covid_Regioes_pct.index.map(lambda regiao: 0.1 if regiao == 'Nordeste' else 0)\n",
    "covid_Regioes_pct"
   ]
  },
  {
   "cell_type": "code",
   "execution_count": null,
   "metadata": {
    "slideshow": {
     "slide_type": "slide"
    }
   },
   "outputs": [],
   "source": [
    "fig, ax = plt.subplots(figsize = (10,10))\n",
    "ax.pie(covid_Regioes_pct.obitosNovos, explode=covid_Regioes_pct.explodir, \n",
    "       labels=covid_Regioes_pct.index, autopct='%1.1f%%', shadow=True)\n",
    "ax.set_title('Percentual de Óbitos de COVID-19 nas Regiões do Brasil até o Dia 18/07/2020')\n",
    "_ = ax.axis('equal')"
   ]
  },
  {
   "cell_type": "markdown",
   "metadata": {
    "slideshow": {
     "slide_type": "slide"
    }
   },
   "source": [
    "## Gráfico de Dispersão\n",
    "\n",
    "Para gráficos de dispersão vários argumentos são os mesmos que já vimos no método **plot** do *pandas*."
   ]
  },
  {
   "cell_type": "code",
   "execution_count": null,
   "metadata": {},
   "outputs": [],
   "source": [
    "fig, ax = plt.subplots()\n",
    "ax.scatter(df_exemplo.index, df_exemplo['coluna_1'])\n",
    "fig.autofmt_xdate()\n",
    "ax.set_xlabel('Data')\n",
    "ax.set_ylabel('Valores da Coluna 1')\n",
    "ax.set_title('Gráfico do df_exemplo')"
   ]
  },
  {
   "cell_type": "code",
   "execution_count": null,
   "metadata": {
    "scrolled": true,
    "slideshow": {
     "slide_type": "slide"
    }
   },
   "outputs": [],
   "source": [
    "fig, ax = plt.subplots()\n",
    "ax.scatter(df_exemplo.index, df_exemplo['coluna_1'], s = np.abs(df_exemplo['coluna_2'])*100)\n",
    "fig.autofmt_xdate()\n",
    "ax.set_xlabel('Data')\n",
    "ax.set_ylabel('Valores da Coluna 1')\n",
    "ax.set_title('Gráfico do df_exemplo')"
   ]
  },
  {
   "cell_type": "code",
   "execution_count": null,
   "metadata": {
    "slideshow": {
     "slide_type": "slide"
    }
   },
   "outputs": [],
   "source": [
    "covid_PB_casos_obitos = covid_PB[['obitosNovos', 'casosNovos']].sort_index()\n",
    "fig, ax = plt.subplots()\n",
    "grafico = ax.scatter(covid_PB_casos_obitos.index, covid_PB_casos_obitos.casosNovos, c = covid_PB_casos_obitos.obitosNovos)\n",
    "fig.autofmt_xdate()\n",
    "ax.set_xlabel('Data')\n",
    "ax.set_ylabel('Casos COVID-19 em PB')\n",
    "ax.set_title('Casos e Óbitos de COVID-19 na Paraíba')\n",
    "color_map=ax.get_children()[4]\n",
    "plt.colorbar(grafico, label = 'Óbitos')"
   ]
  },
  {
   "cell_type": "code",
   "execution_count": null,
   "metadata": {
    "slideshow": {
     "slide_type": "slide"
    }
   },
   "outputs": [],
   "source": [
    "covid_PB_casos_obitos = covid_PB[['obitosNovos', 'casosNovos']].sort_index()\n",
    "fig, ax = plt.subplots()\n",
    "grafico = ax.scatter(covid_PB_casos_obitos.index, covid_PB_casos_obitos.casosNovos, c = covid_PB_casos_obitos.obitosNovos,\n",
    "                    cmap='cool')\n",
    "fig.autofmt_xdate()\n",
    "ax.set_xlabel('Data')\n",
    "ax.set_ylabel('Casos COVID-19 em PB')\n",
    "ax.set_title('Casos e Óbitos de COVID-19 na Paraíba')\n",
    "color_map=ax.get_children()[4]\n",
    "plt.colorbar(grafico, label = 'Óbitos')"
   ]
  },
  {
   "cell_type": "code",
   "execution_count": null,
   "metadata": {
    "slideshow": {
     "slide_type": "slide"
    }
   },
   "outputs": [],
   "source": [
    "fig, ax = plt.subplots()\n",
    "ax.scatter(df_exemplo.index, df_exemplo['coluna_1'], label = 'Coluna 1', color = 'black')\n",
    "ax.scatter(df_exemplo.index, df_exemplo['coluna_2'], label = 'Coluna 2', color = 'red')\n",
    "ax.scatter(df_exemplo.index, df_exemplo['coluna_3'], label = 'Coluna 3', color = 'green')\n",
    "fig.autofmt_xdate()\n",
    "ax.legend()\n",
    "ax.set_ylabel(\"Valor\")\n",
    "ax.set_xlabel(\"Data\")"
   ]
  },
  {
   "cell_type": "markdown",
   "metadata": {
    "slideshow": {
     "slide_type": "slide"
    }
   },
   "source": [
    "## Gráficos Lado a Lado"
   ]
  },
  {
   "cell_type": "code",
   "execution_count": null,
   "metadata": {},
   "outputs": [],
   "source": [
    "#Vamos modificar esta função para podermos utilizá-la quando temos mais de um gráfico ao mesmo tempo\n",
    "def autolabel(rects, ax):\n",
    "    \"\"\"Attach a text label above each bar in *rects*, displaying its height.\"\"\"\n",
    "    for rect in rects:\n",
    "        height = rect.get_height()\n",
    "        #ax.annotate('{}'.format(height), #antigo\n",
    "        ax.annotate('{:.0f}'.format(height), #Modificamos para apresentar o número inteiro                    \n",
    "                    xy=(rect.get_x() + rect.get_width() / 2, height),\n",
    "                    xytext=(0, 3),  # 3 points vertical offset\n",
    "                    textcoords=\"offset points\",\n",
    "                    ha='center', va='bottom')"
   ]
  },
  {
   "cell_type": "code",
   "execution_count": null,
   "metadata": {
    "slideshow": {
     "slide_type": "slide"
    }
   },
   "outputs": [],
   "source": [
    "covid_Regioes = covid_BR[['regiao','obitosNovos']].groupby('regiao').sum().query('regiao != \"Brasil\"')/2\n",
    "figs, axs = plt.subplots(1,2, figsize=(22,7))\n",
    "axs[0].set_ylim(0, 40000) # aumentamos o limite da coordenada y\n",
    "retangulos = axs[0].bar(covid_Regioes.index, covid_Regioes['obitosNovos'])\n",
    "axs[0].yaxis.set_major_formatter(FuncFormatter(inserir_mil))\n",
    "axs[0].set_ylabel('Total de Óbitos') # Rótulo do eixo y\n",
    "axs[0].set_title(\"Óbitos de COVID-19 nas regiões do Brasil até o dia 18/07/2020\")\n",
    "autolabel(retangulos, axs[0])\n",
    "axs[1].pie(covid_Regioes_pct.obitosNovos, explode=covid_Regioes_pct.explodir, \n",
    "       labels=covid_Regioes_pct.index, autopct='%1.1f%%', shadow=True)\n",
    "axs[1].set_title('Percentual de Óbitos de COVID-19 nas Regiões do Brasil até o Dia 18/07/2020')\n",
    "_ = axs[1].axis('equal')"
   ]
  },
  {
   "cell_type": "markdown",
   "metadata": {
    "slideshow": {
     "slide_type": "slide"
    }
   },
   "source": [
    "## Histograma"
   ]
  },
  {
   "cell_type": "code",
   "execution_count": null,
   "metadata": {},
   "outputs": [],
   "source": [
    "fig, ax = plt.subplots()\n",
    "ax.hist(covid_regioes.obitos_Nordeste, bins=30, color='lime')\n",
    "ax.set_ylabel('Frequência')\n",
    "ax.set_xlabel('Óbitos Diários por COVID-19')\n",
    "ax.set_title('Nordeste')"
   ]
  },
  {
   "cell_type": "code",
   "execution_count": null,
   "metadata": {
    "slideshow": {
     "slide_type": "slide"
    }
   },
   "outputs": [],
   "source": [
    "fig, axs = plt.subplots(1,2, sharey=True, figsize = (15,7)) #sharey=True indica que o eixo y será o mesmo para todos os gráficos\n",
    "axs[0].hist(covid_regioes.obitos_Nordeste, bins=30, histtype='step', color='red')\n",
    "axs[0].set_ylabel('Frequência')\n",
    "axs[0].set_xlabel('Óbitos Diários por COVID-19')\n",
    "axs[0].set_title('Nordeste')\n",
    "axs[1].hist(covid_regioes.obitos_Nordeste, bins=30, fill=False, edgecolor='red')\n",
    "axs[1].set_ylabel('Frequência')\n",
    "axs[1].set_xlabel('Óbitos Diários por COVID-19')\n",
    "axs[1].set_title('Nordeste')"
   ]
  },
  {
   "cell_type": "code",
   "execution_count": null,
   "metadata": {
    "slideshow": {
     "slide_type": "slide"
    }
   },
   "outputs": [],
   "source": [
    "fig, ax = plt.subplots(figsize=(10,10))\n",
    "ax.hist([covid_regioes.obitos_Nordeste, covid_regioes.obitos_Sudeste], bins=30, histtype='step', label=['Nordeste', 'Sudeste'])\n",
    "ax.set_ylabel('Frequência')\n",
    "ax.set_xlabel('Óbitos Diários por COVID-19')\n",
    "_ = ax.legend()"
   ]
  },
  {
   "cell_type": "markdown",
   "metadata": {
    "slideshow": {
     "slide_type": "slide"
    }
   },
   "source": [
    "## BoxPlot\n",
    "\n",
    "O método para criar o *boxplot* utilizando o **matplotlib** se resume a fornecer uma lista (ou similar) de valores para os quais queremos os *boxplots* e uma lista (ou similar) contendo as posições nas quais queremos que os *boxplots* apareçam."
   ]
  },
  {
   "cell_type": "code",
   "execution_count": null,
   "metadata": {
    "slideshow": {
     "slide_type": "slide"
    }
   },
   "outputs": [],
   "source": [
    "fig, ax = plt.subplots()\n",
    "dados = [df_exemplo['coluna_1'], df_exemplo['coluna_2'], df_exemplo['coluna_3'].dropna()]\n",
    "posicoes = np.array(range(len(dados))) + 1\n",
    "ax.boxplot(dados, positions=posicoes)\n",
    "_ = ax.set_xticklabels(['Coluna 1', 'Coluna 2', 'Coluna 3'])"
   ]
  },
  {
   "cell_type": "code",
   "execution_count": null,
   "metadata": {
    "slideshow": {
     "slide_type": "slide"
    }
   },
   "outputs": [],
   "source": [
    "covid_norte = covid_regioes.obitos_Norte\n",
    "covid_nordeste = covid_regioes.obitos_Nordeste\n",
    "covid_sudeste = covid_regioes.obitos_Sudeste\n",
    "covid_sul = covid_regioes.obitos_Sul\n",
    "covid_centro_oeste = covid_regioes['obitos_Centro-Oeste']\n",
    "covid_box = [covid_norte, covid_nordeste, covid_sudeste, covid_sul, covid_centro_oeste]\n",
    "fig, ax = plt.subplots()\n",
    "posicoes = np.array(range(len(covid_box))) + 1\n",
    "ax.boxplot(covid_box, 1, positions=posicoes, sym='+')\n",
    "_ = ax.set_xticklabels(['Norte', 'Nordeste', 'Sudeste', 'Sul', 'Centro-Oeste'])"
   ]
  },
  {
   "cell_type": "code",
   "execution_count": null,
   "metadata": {
    "slideshow": {
     "slide_type": "slide"
    }
   },
   "outputs": [],
   "source": [
    "covid_box_2 = [covid_sul, covid_centro_oeste]\n",
    "fig, ax = plt.subplots()\n",
    "posicoes = np.array(range(len(covid_box_2))) + 1\n",
    "ax.boxplot(covid_box_2, 1, positions=posicoes, sym='r+') #r indica 'red', vermelho, + é o símbolo para o outlier\n",
    "_ = ax.set_xticklabels(['Sul', 'Centro-Oeste'])"
   ]
  },
  {
   "cell_type": "code",
   "execution_count": null,
   "metadata": {
    "slideshow": {
     "slide_type": "slide"
    }
   },
   "outputs": [],
   "source": [
    "covid_box_2 = [covid_sul, covid_centro_oeste]\n",
    "fig, ax = plt.subplots()\n",
    "posicoes = np.array(range(len(covid_box_2))) + 1\n",
    "ax.boxplot(covid_box_2, 1, positions=posicoes, sym='g.') #r indica 'red', vermelho, + é o símbolo para o outlier\n",
    "_ = ax.set_xticklabels(['Sul', 'Centro-Oeste'])"
   ]
  },
  {
   "cell_type": "markdown",
   "metadata": {
    "slideshow": {
     "slide_type": "slide"
    }
   },
   "source": [
    "**Obs.:** Muitos dos argumentos utilizados nos métodos acima também funcionam no método **plot** do *pandas*, vale a pena testar!"
   ]
  },
  {
   "cell_type": "markdown",
   "metadata": {
    "slideshow": {
     "slide_type": "slide"
    }
   },
   "source": [
    "# Criando gráficos interativos com o *plotly*"
   ]
  },
  {
   "cell_type": "markdown",
   "metadata": {},
   "source": [
    "## Gráficos de linha\n",
    "\n",
    "Vamos começar criando gráficos de linha.\n",
    "\n",
    "Primeiramente utilizaremos um pacote rápido e eficiente para a construção de gráficos interativos: o **plotly.express**\n",
    "\n",
    "Para este tipo de plot é conveniente ter apenas um valor possível para a coordenada *y* e ter uma segunda coluna determinando a cor a ser utilizada.\n",
    "\n",
    "Vamos então refazer nosso exemplo do Covid por regiões."
   ]
  },
  {
   "cell_type": "code",
   "execution_count": null,
   "metadata": {},
   "outputs": [],
   "source": [
    "import plotly.express as px"
   ]
  },
  {
   "cell_type": "markdown",
   "metadata": {
    "slideshow": {
     "slide_type": "slide"
    }
   },
   "source": [
    "Preparando o banco de dados para o **plotly.express**:"
   ]
  },
  {
   "cell_type": "code",
   "execution_count": null,
   "metadata": {},
   "outputs": [],
   "source": [
    "covid_regioes_px = covid_BR.set_index('data').query('regiao != \"Brasil\"')[['obitosAcumulado', 'regiao']].reset_index().rename(\n",
    "    {'obitosAcumulado':'Total de Óbitos','regiao':'Região','data':'Data'},axis=1)\n",
    "covid_regioes_px = covid_regioes_px.groupby(['Região','Data']).sum()/2\n",
    "covid_regioes_px = covid_regioes_px.reset_index().set_index('Data')"
   ]
  },
  {
   "cell_type": "code",
   "execution_count": null,
   "metadata": {
    "slideshow": {
     "slide_type": "slide"
    }
   },
   "outputs": [],
   "source": [
    "fig = px.line(covid_regioes_px, y=\"Total de Óbitos\", color=\"Região\",\n",
    "              line_group=\"Região\", hover_name=\"Região\", title='Óbitos de COVID-19 nas regiões do Brasil')\n",
    "fig.show()"
   ]
  },
  {
   "cell_type": "markdown",
   "metadata": {
    "slideshow": {
     "slide_type": "slide"
    }
   },
   "source": [
    "Podemos fixar o mesmo valor da coordenada *x* para todas as regiões na hora de passar o *mouse*:"
   ]
  },
  {
   "cell_type": "code",
   "execution_count": null,
   "metadata": {},
   "outputs": [],
   "source": [
    "fig = px.line(covid_regioes_px, y=\"Total de Óbitos\", color=\"Região\",\n",
    "              line_group=\"Região\", hover_name=\"Região\", title='Óbitos de COVID-19 nas regiões do Brasil')\n",
    "fig.update_layout(hovermode='x unified')\n",
    "fig.show()"
   ]
  },
  {
   "cell_type": "markdown",
   "metadata": {
    "slideshow": {
     "slide_type": "slide"
    }
   },
   "source": [
    "Vamos agora construir o mesmo gráfico com o pacote **plotly.graph_objects**.\n",
    "\n",
    "Não possui a simplicidade do **plotly.express**, porém possui mais flexibilidade e é mais \"customizável\".\n",
    "\n",
    "Para exemplificar a utilidade dele, vamos utilizar no conjunto de dados *covid_regioes* que possui 5 colunas distintas como valores de *y*. \n",
    "\n",
    "Além disso, veremos que o gráfico com *x* unificado ficará naturalmente melhor no **plotly.graph_objects**.\n",
    "\n",
    "Muitos argumentos disponíveis no **plotly.graph_objects** não estão disponíveis no **plotly.express**."
   ]
  },
  {
   "cell_type": "code",
   "execution_count": null,
   "metadata": {},
   "outputs": [],
   "source": [
    "import plotly.graph_objects as go"
   ]
  },
  {
   "cell_type": "code",
   "execution_count": null,
   "metadata": {
    "slideshow": {
     "slide_type": "slide"
    }
   },
   "outputs": [],
   "source": [
    "fig = go.Figure()\n",
    "fig.add_trace(go.Scatter(x=covid_regioes.index, y=covid_regioes['obitos_Norte'], mode='lines', name='Norte'))\n",
    "fig.add_trace(go.Scatter(x=covid_regioes.index, y=covid_regioes['obitos_Nordeste'], mode='lines', name='Nordeste'))\n",
    "fig.add_trace(go.Scatter(x=covid_regioes.index, y=covid_regioes['obitos_Centro-Oeste'], mode='lines', name='Centro-Oeste'))\n",
    "fig.add_trace(go.Scatter(x=covid_regioes.index, y=covid_regioes['obitos_Sudeste'], mode='lines', name='Sudeste'))\n",
    "fig.add_trace(go.Scatter(x=covid_regioes.index, y=covid_regioes['obitos_Sul'], mode='lines', name='Sul'))\n",
    "fig.update_layout( title='Óbitos de COVID-19 nas regiões do Brasil',\n",
    "                   xaxis_title='Data', yaxis_title='Total de Óbitos', legend_title_text='Região', hovermode='x unified')"
   ]
  },
  {
   "cell_type": "markdown",
   "metadata": {
    "slideshow": {
     "slide_type": "slide"
    }
   },
   "source": [
    "Vamos agora reordenar para melhor apresentação:"
   ]
  },
  {
   "cell_type": "code",
   "execution_count": null,
   "metadata": {
    "scrolled": false,
    "slideshow": {
     "slide_type": "slide"
    }
   },
   "outputs": [],
   "source": [
    "fig = go.Figure()\n",
    "fig.add_trace(go.Scatter(x=covid_regioes.index, y=covid_regioes['obitos_Sudeste'], mode='lines', name='Sudeste'))\n",
    "fig.add_trace(go.Scatter(x=covid_regioes.index, y=covid_regioes['obitos_Nordeste'], mode='lines', name='Nordeste'))\n",
    "fig.add_trace(go.Scatter(x=covid_regioes.index, y=covid_regioes['obitos_Norte'], mode='lines', name='Norte'))\n",
    "fig.add_trace(go.Scatter(x=covid_regioes.index, y=covid_regioes['obitos_Centro-Oeste'], mode='lines', name='Centro-Oeste'))\n",
    "fig.add_trace(go.Scatter(x=covid_regioes.index, y=covid_regioes['obitos_Sul'], mode='lines', name='Sul'))\n",
    "fig.update_layout( title='Óbitos de COVID-19 nas regiões do Brasil', \n",
    "                  xaxis_title='Data', yaxis_title='Total de Óbitos', legend_title_text='Região', hovermode='x unified')"
   ]
  },
  {
   "cell_type": "markdown",
   "metadata": {
    "slideshow": {
     "slide_type": "slide"
    }
   },
   "source": [
    "## Gráficos de coluna"
   ]
  },
  {
   "cell_type": "code",
   "execution_count": null,
   "metadata": {
    "scrolled": false
   },
   "outputs": [],
   "source": [
    "fig = px.bar(covid_Regioes.reset_index().rename({'regiao':'Região','obitosNovos':'Total de Óbitos'}, axis=1), \n",
    "                                                x='Região', y='Total de Óbitos', \n",
    "                                                title='Óbitos por COVID-19 nas Regiões do Brasil')\n",
    "fig.show()"
   ]
  },
  {
   "cell_type": "markdown",
   "metadata": {
    "slideshow": {
     "slide_type": "slide"
    }
   },
   "source": [
    "Neste caso é bem simples fazer este gráfico com **graph_objects**:"
   ]
  },
  {
   "cell_type": "code",
   "execution_count": null,
   "metadata": {},
   "outputs": [],
   "source": [
    "covid_coluna = covid_Regioes.reset_index().rename({'regiao':'Região','obitosNovos':'Total de Óbitos'}, axis=1)\n",
    "\n",
    "fig = go.Figure([go.Bar(x=covid_coluna['Região'], y=covid_coluna['Total de Óbitos'])])\n",
    "fig.update_layout( title='Óbitos de COVID-19 nas regiões do Brasil', \n",
    "                  xaxis_title='Região', yaxis_title='Total de Óbitos')\n",
    "fig.show()"
   ]
  },
  {
   "cell_type": "code",
   "execution_count": null,
   "metadata": {
    "slideshow": {
     "slide_type": "slide"
    }
   },
   "outputs": [],
   "source": [
    "covid_coluna = covid_Regioes.reset_index().rename({'regiao':'Região','obitosNovos':'Total de Óbitos'}, axis=1)\n",
    "covid_coluna['Até 18/07/2020'] = '' #Criamos uma coluna igual para todos para servir de coordenada x\n",
    "fig = px.bar(covid_coluna, \n",
    "                                                x='Até 18/07/2020', y='Total de Óbitos', color='Região',\n",
    "                                                title='Óbitos por COVID-19 nas Regiões do Brasil',\n",
    "             barmode='group') #Esse argumento coloca as colunas lado a lado\n",
    "fig.show()"
   ]
  },
  {
   "cell_type": "markdown",
   "metadata": {
    "slideshow": {
     "slide_type": "slide"
    }
   },
   "source": [
    "Vamos recriar o gráfico anterior com **graph_objects**, neste caso sem colocar nenhuma informação no eixo *x*."
   ]
  },
  {
   "cell_type": "code",
   "execution_count": null,
   "metadata": {},
   "outputs": [],
   "source": [
    "fig = go.Figure(data=[\n",
    "    go.Bar(name='Norte', x=['Óbitos'], y=covid_Regioes.loc['Norte']),\n",
    "    go.Bar(name='Nordeste', x=['Óbitos'], y=covid_Regioes.loc['Nordeste']),\n",
    "    go.Bar(name='Centro-Oeste', x=['Óbitos'], y=covid_Regioes.loc['Centro-Oeste']),\n",
    "    go.Bar(name='Sudeste', x=['Óbitos'], y=covid_Regioes.loc['Sudeste']),\n",
    "    go.Bar(name='Sul', x=['Óbitos'], y=covid_Regioes.loc['Sul'])\n",
    "])\n",
    "fig.update_layout(barmode='group', title='Óbitos por COVID-19 nas Regiões do Brasil', \n",
    "                  yaxis_title='Total de Óbitos', legend_title_text='Região')\n",
    "fig.update_xaxes(showticklabels=False)\n",
    "fig.show()"
   ]
  },
  {
   "cell_type": "code",
   "execution_count": null,
   "metadata": {
    "scrolled": false
   },
   "outputs": [],
   "source": [
    "fig = px.bar(covid_coluna, x='Até 18/07/2020', y='Total de Óbitos', color='Região',\n",
    "                                                title='Óbitos por COVID-19 nas Regiões do Brasil')\n",
    "#Sem o argumento barmode='group' ficamos com as colunas empilhadas\n",
    "fig.show()"
   ]
  },
  {
   "cell_type": "code",
   "execution_count": null,
   "metadata": {
    "slideshow": {
     "slide_type": "slide"
    }
   },
   "outputs": [],
   "source": [
    "fig = go.Figure(data=[\n",
    "    go.Bar(name='Norte', x=['Óbitos'], y=covid_Regioes.loc['Norte']),\n",
    "    go.Bar(name='Nordeste', x=['Óbitos'], y=covid_Regioes.loc['Nordeste']),\n",
    "    go.Bar(name='Centro-Oeste', x=['Óbitos'], y=covid_Regioes.loc['Centro-Oeste']),\n",
    "    go.Bar(name='Sudeste', x=['Óbitos'], y=covid_Regioes.loc['Sudeste']),\n",
    "    go.Bar(name='Sul', x=['Óbitos'], y=covid_Regioes.loc['Sul'])\n",
    "])\n",
    "fig.update_layout(barmode='stack', title='Óbitos por COVID-19 nas Regiões do Brasil', \n",
    "                  yaxis_title='Total de Óbitos', legend_title_text='Região')\n",
    "fig.update_xaxes(showticklabels=False)\n",
    "fig.show()"
   ]
  },
  {
   "cell_type": "markdown",
   "metadata": {
    "slideshow": {
     "slide_type": "slide"
    }
   },
   "source": [
    "## Gráfico de Setores\n",
    "\n",
    "O método *pie* das bibliotecas **plotly.express** e **plotly.graph_objects** são bastante imediatos e se assemelham muito ao que vimos anteriormente para o **matplotlib**."
   ]
  },
  {
   "cell_type": "code",
   "execution_count": null,
   "metadata": {
    "slideshow": {
     "slide_type": "slide"
    }
   },
   "outputs": [],
   "source": [
    "fig = px.pie(covid_Regioes_pct, values='obitosNovos', names=covid_Regioes_pct.index, \n",
    "             title = 'Distribuição dos Óbitos por COVID-19 nas Regiões do Brasil até 18/07/2020')\n",
    "fig.show()"
   ]
  },
  {
   "cell_type": "code",
   "execution_count": null,
   "metadata": {
    "slideshow": {
     "slide_type": "slide"
    }
   },
   "outputs": [],
   "source": [
    "fig = go.Figure(data=[go.Pie(labels=covid_Regioes_pct.index, values=covid_Regioes_pct.obitosNovos, \n",
    "                             pull=covid_Regioes_pct.explodir)])\n",
    "fig.update_layout(title='Distribuição dos Óbitos por COVID-19 nas Regiões do Brasil até 18/07/2020', \n",
    "                  yaxis_title='Total de Óbitos', legend_title_text='Região')\n",
    "fig.show()"
   ]
  },
  {
   "cell_type": "markdown",
   "metadata": {
    "slideshow": {
     "slide_type": "slide"
    }
   },
   "source": [
    "## Gráfico de Dispersão\n",
    "\n",
    "Na prática os gráficos de linha e de dispersão são realizados com o mesmo método no **plotly.graph_objects**. Já no **plotly.express** é análogo ao método que vimos para o **matplotlib**. "
   ]
  },
  {
   "cell_type": "code",
   "execution_count": null,
   "metadata": {
    "slideshow": {
     "slide_type": "slide"
    }
   },
   "outputs": [],
   "source": [
    "df_exemplo_px = pd.DataFrame(df_exemplo['coluna_1']).rename({'coluna_1':'Valor'}, axis=1)\n",
    "df_exemplo_px['Coluna'] = 'Coluna 1' \n",
    "df_exemplo_px_temp = pd.DataFrame(df_exemplo['coluna_2']).rename({'coluna_2':'Valor'}, axis=1)\n",
    "df_exemplo_px_temp['Coluna'] = 'Coluna 2'\n",
    "df_exemplo_px = pd.concat([df_exemplo_px, df_exemplo_px_temp])\n",
    "df_exemplo_px_temp = pd.DataFrame(df_exemplo['coluna_3']).rename({'coluna_3':'Valor'}, axis=1)\n",
    "df_exemplo_px_temp['Coluna'] = 'Coluna 3'\n",
    "df_exemplo_px = pd.concat([df_exemplo_px, df_exemplo_px_temp])\n",
    "df_exemplo_px.head()"
   ]
  },
  {
   "cell_type": "code",
   "execution_count": null,
   "metadata": {
    "slideshow": {
     "slide_type": "slide"
    }
   },
   "outputs": [],
   "source": [
    "fig = px.scatter(df_exemplo_px, x=df_exemplo_px.index, y='Valor', color='Coluna')\n",
    "fig.show()"
   ]
  },
  {
   "cell_type": "markdown",
   "metadata": {
    "slideshow": {
     "slide_type": "slide"
    }
   },
   "source": [
    "Utilizando o pacote podemos trabalhar diretamente com o *df_exemplo*:"
   ]
  },
  {
   "cell_type": "code",
   "execution_count": null,
   "metadata": {
    "slideshow": {
     "slide_type": "-"
    }
   },
   "outputs": [],
   "source": [
    "fig = go.Figure()\n",
    "fig.add_trace(go.Scatter(x=df_exemplo.index, y=df_exemplo['coluna_1'], mode='markers', name='Coluna 1'))\n",
    "fig.add_trace(go.Scatter(x=df_exemplo.index, y=df_exemplo['coluna_2'], mode='markers',name='Coluna 2'))\n",
    "fig.add_trace(go.Scatter(x=df_exemplo.index, y=df_exemplo['coluna_3'], mode='markers',name='Coluna 3'))\n",
    "fig.update_layout( title='Gráfico de Dispersão do df_exemplo',\n",
    "                   xaxis_title='Data', yaxis_title='Valor', legend_title_text='Coluna')"
   ]
  },
  {
   "cell_type": "markdown",
   "metadata": {
    "slideshow": {
     "slide_type": "slide"
    }
   },
   "source": [
    "## Histograma\n",
    "\n",
    "Com o **plotly.express** podemos aplicar o método diretamente com poucas diferenças entre os argumentos. Vemos que no lugar de *bins*, devemos utilizar *nbins* e no lugar de *alpha*, devemos combinar *barmode='overlay'* com *opacity*."
   ]
  },
  {
   "cell_type": "markdown",
   "metadata": {},
   "source": [
    "Vamos preparar o banco de dados para o histograma."
   ]
  },
  {
   "cell_type": "code",
   "execution_count": null,
   "metadata": {
    "slideshow": {
     "slide_type": "slide"
    }
   },
   "outputs": [],
   "source": [
    "covid_regioes_diarios = pd.DataFrame()\n",
    "\n",
    "regioes = covid_BR.query('regiao != \"Brasil\"')['regiao'].drop_duplicates().array\n",
    "\n",
    "for regiao in regioes:\n",
    "    temp_series = covid_BR.set_index('data').query('regiao == @regiao')['obitosNovos'].groupby('data').sum()/2\n",
    "    temp_series.name = 'obitos_' + regiao\n",
    "    covid_regioes_diarios = pd.concat([covid_regioes_diarios, temp_series], axis=1)\n",
    "    \n",
    "covid_regioes_diarios.index = pd.to_datetime(covid_regioes_diarios.index)\n",
    "covid_regioes_diarios"
   ]
  },
  {
   "cell_type": "code",
   "execution_count": null,
   "metadata": {
    "scrolled": false,
    "slideshow": {
     "slide_type": "slide"
    }
   },
   "outputs": [],
   "source": [
    "fig = px.histogram(covid_regioes_diarios.obitos_Nordeste, nbins=30, title='''\n",
    "Distribuição da quantidade de óbitos diários de COVID-19 no nordeste do Brasil\n",
    "                   ''')\n",
    "fig.show()"
   ]
  },
  {
   "cell_type": "code",
   "execution_count": null,
   "metadata": {
    "slideshow": {
     "slide_type": "slide"
    }
   },
   "outputs": [],
   "source": [
    "covid_regioes_diarios_px = covid_BR.set_index(\n",
    "    'data').query('regiao != \"Brasil\"')[['obitosNovos', 'regiao']].reset_index().rename(\n",
    "    {'obitosNovos':'Óbitos','regiao':'Região','data':'Data'},axis=1)\n",
    "covid_regioes_diarios_px = covid_regioes_diarios_px.groupby(['Região','Data']).sum()/2\n",
    "covid_regioes_diarios_px = covid_regioes_diarios_px.reset_index().set_index('Data')"
   ]
  },
  {
   "cell_type": "code",
   "execution_count": null,
   "metadata": {
    "slideshow": {
     "slide_type": "slide"
    }
   },
   "outputs": [],
   "source": [
    "fig = px.histogram(covid_regioes_diarios_px, nbins=30, color='Região', opacity=0.5, barmode='overlay', title='''\n",
    "Distribuição da quantidade de óbitos diários de COVID-19 nas regiões do Brasil\n",
    "                   ''')\n",
    "fig.show()"
   ]
  },
  {
   "cell_type": "markdown",
   "metadata": {
    "slideshow": {
     "slide_type": "slide"
    }
   },
   "source": [
    "Agora vejamos com **plotly.graph_objects**:"
   ]
  },
  {
   "cell_type": "code",
   "execution_count": null,
   "metadata": {},
   "outputs": [],
   "source": [
    "def fazer_histograma_plotly():\n",
    "    fig = go.Figure()\n",
    "    fig.update_layout(barmode='overlay', title='''\n",
    "Distribuição da quantidade de óbitos diários de COVID-19 nas regiões do Brasil\n",
    "                   ''',\n",
    "                     yaxis_title=\"Quantidade de Dias\", xaxis_title=\"Óbitos\",legend_title_text='Região')\n",
    "    fig.add_trace(go.Histogram(x=covid_regioes_diarios['obitos_Norte'], name='Norte'))\n",
    "    fig.add_trace(go.Histogram(x=covid_regioes_diarios['obitos_Nordeste'], name='Nordeste'))\n",
    "    fig.add_trace(go.Histogram(x=covid_regioes_diarios['obitos_Centro-Oeste'],  name='Centro-Oeste'))\n",
    "    fig.add_trace(go.Histogram(x=covid_regioes_diarios['obitos_Sudeste'], name='Sudeste'))\n",
    "    fig.add_trace(go.Histogram(x=covid_regioes_diarios['obitos_Sul'],  name='Sul'))\n",
    "    fig.update_traces(opacity=0.5, xbins={'size':50})\n",
    "    fig.show()"
   ]
  },
  {
   "cell_type": "code",
   "execution_count": null,
   "metadata": {
    "slideshow": {
     "slide_type": "slide"
    }
   },
   "outputs": [],
   "source": [
    "fazer_histograma_plotly()"
   ]
  },
  {
   "cell_type": "markdown",
   "metadata": {
    "slideshow": {
     "slide_type": "slide"
    }
   },
   "source": [
    "## BoxPlot\n",
    "\n",
    "No **plotly** os argumentos do *boxplot* são muito semelhantes aos do histograma, mudando essencialmente que o argumento dos dados no histograma é *x* e do *boxplot* é *y*."
   ]
  },
  {
   "cell_type": "code",
   "execution_count": null,
   "metadata": {
    "slideshow": {
     "slide_type": "slide"
    }
   },
   "outputs": [],
   "source": [
    "fig = px.box(df_exemplo_px, x=\"Coluna\", y=\"Valor\")\n",
    "fig.show()"
   ]
  },
  {
   "cell_type": "code",
   "execution_count": null,
   "metadata": {
    "slideshow": {
     "slide_type": "slide"
    }
   },
   "outputs": [],
   "source": [
    "fig = px.box(covid_regioes_diarios_px, x=\"Região\", y=\"Óbitos\")\n",
    "fig.show()"
   ]
  },
  {
   "cell_type": "code",
   "execution_count": null,
   "metadata": {
    "slideshow": {
     "slide_type": "slide"
    }
   },
   "outputs": [],
   "source": [
    "fig = px.box(covid_regioes_diarios_px, x='Região', y='Óbitos', notched=True, color='Região',\n",
    "            title='Distribuição da quantidade de óbitos diários de COVID-19 nas regiões do Brasil')\n",
    "fig.show()"
   ]
  },
  {
   "cell_type": "code",
   "execution_count": null,
   "metadata": {
    "slideshow": {
     "slide_type": "slide"
    }
   },
   "outputs": [],
   "source": [
    "def fazer_boxplot_plotly():\n",
    "    fig = go.Figure()\n",
    "    fig.update_layout(barmode='overlay', title='''\n",
    "Distribuição da quantidade de óbitos diários de COVID-19 nas regiões do Brasil\n",
    "                   ''',\n",
    "                     yaxis_title=\"Óbitos\", legend_title_text='Região')\n",
    "    fig.add_trace(go.Box(y=covid_regioes_diarios['obitos_Norte'], name='Norte'))\n",
    "    fig.add_trace(go.Box(y=covid_regioes_diarios['obitos_Nordeste'], name='Nordeste'))\n",
    "    fig.add_trace(go.Box(y=covid_regioes_diarios['obitos_Centro-Oeste'],  name='Centro-Oeste'))\n",
    "    fig.add_trace(go.Box(y=covid_regioes_diarios['obitos_Sudeste'], name='Sudeste'))\n",
    "    fig.add_trace(go.Box(y=covid_regioes_diarios['obitos_Sul'],  name='Sul'))\n",
    "    fig.show()"
   ]
  },
  {
   "cell_type": "code",
   "execution_count": null,
   "metadata": {
    "slideshow": {
     "slide_type": "slide"
    }
   },
   "outputs": [],
   "source": [
    "fazer_boxplot_plotly()"
   ]
  }
 ],
 "metadata": {
  "celltoolbar": "Slideshow",
  "kernelspec": {
   "display_name": "Python 3",
   "language": "python",
   "name": "python3"
  },
  "language_info": {
   "codemirror_mode": {
    "name": "ipython",
    "version": 3
   },
   "file_extension": ".py",
   "mimetype": "text/x-python",
   "name": "python",
   "nbconvert_exporter": "python",
   "pygments_lexer": "ipython3",
   "version": "3.7.6"
  },
  "latex_metadata": {
   "affiliation": "Departamento de Computação Científica / UFPB",
   "author": "Gustavo Oliveira e Andréa Rocha",
   "date": "Julho de 2020",
   "title": "Aula 7B - Visualização Gráfica de Dados"
  },
  "rise": {
   "enable_chalkboard": true,
   "footer": "UFPB - CI - DCC",
   "header": "Gustavo Oliveira / Andrea Rocha",
   "theme": "sky"
  }
 },
 "nbformat": 4,
 "nbformat_minor": 4
}
