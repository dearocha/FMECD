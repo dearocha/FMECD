{
 "cells": [
  {
   "cell_type": "markdown",
   "metadata": {},
   "source": [
    "# Visualização Gráfica de Dados\n",
    "## As bibliotecas *matplotlib* e *pandas*"
   ]
  },
  {
   "cell_type": "markdown",
   "metadata": {
    "slideshow": {
     "slide_type": "slide"
    }
   },
   "source": [
    "* As *Series* e os *DataFrames* possuem um método **plot** de visualização gráfica, construído com base no **matplotlib**, que contemplam diversos tipos de gráficos, incluindo gráficos estatísticos.\n",
    "\n",
    "* Ao utilizar o método **plot** em uma *Serie* ou *DataFrame*, não haverá a necessidade de importar o **matplotlib.pyplot**, uma vez que as funções e métodos utilizados já foram importados pelo *pandas*."
   ]
  },
  {
   "cell_type": "markdown",
   "metadata": {
    "slideshow": {
     "slide_type": "slide"
    }
   },
   "source": [
    "* Primeiramente veremos construções gráficas com base no método **plot**.\n",
    "\n",
    "* Vamos começar importando e construindo os *DataFrames* a serem utilizados."
   ]
  },
  {
   "cell_type": "code",
   "execution_count": null,
   "metadata": {
    "slideshow": {
     "slide_type": "-"
    }
   },
   "outputs": [],
   "source": [
    "import numpy as np\n",
    "import pandas as pd"
   ]
  },
  {
   "cell_type": "code",
   "execution_count": null,
   "metadata": {
    "slideshow": {
     "slide_type": "-"
    }
   },
   "outputs": [],
   "source": [
    "serie_Idade = pd.Series({'Ana':20, 'João': 19, 'Maria': 21, 'Pedro': 22, 'Túlio': 20}, name=\"Idade\")\n",
    "serie_Peso = pd.Series({'Ana':55, 'João': 80, 'Maria': 62, 'Pedro': 67, 'Túlio': 73}, name=\"Peso\")\n",
    "serie_Altura = pd.Series({'Ana':162, 'João': 178, 'Maria': 162, 'Pedro': 165, 'Túlio': 171}, name=\"Altura\")"
   ]
  },
  {
   "cell_type": "code",
   "execution_count": null,
   "metadata": {},
   "outputs": [],
   "source": [
    "dicionario_series_exemplo = {'Idade': serie_Idade, 'Peso': serie_Peso, 'Altura': serie_Altura}"
   ]
  },
  {
   "cell_type": "code",
   "execution_count": null,
   "metadata": {
    "slideshow": {
     "slide_type": "slide"
    }
   },
   "outputs": [],
   "source": [
    "df_dict_series = pd.DataFrame(dicionario_series_exemplo);df_dict_series"
   ]
  },
  {
   "cell_type": "code",
   "execution_count": null,
   "metadata": {
    "slideshow": {
     "slide_type": "slide"
    }
   },
   "outputs": [],
   "source": [
    "df_exemplo = pd.read_csv('exemplo_data.csv', index_col=0);df_exemplo"
   ]
  },
  {
   "cell_type": "code",
   "execution_count": null,
   "metadata": {
    "slideshow": {
     "slide_type": "slide"
    }
   },
   "outputs": [],
   "source": [
    "df_exemplo['coluna_3'] = pd.Series([1,2,3,4,5,6,7,8,np.nan,np.nan],index=df_exemplo.index);df_exemplo"
   ]
  },
  {
   "cell_type": "code",
   "execution_count": null,
   "metadata": {
    "slideshow": {
     "slide_type": "slide"
    }
   },
   "outputs": [],
   "source": [
    "covid_PB = pd.read_csv('https://superset.plataformatarget.com.br/superset/explore_json/?form_data=%7B%22slice_id%22%3A1550%7D&csv=true', \n",
    "                             sep=';', index_col=0)"
   ]
  },
  {
   "cell_type": "code",
   "execution_count": null,
   "metadata": {},
   "outputs": [],
   "source": [
    "covid_PB.head()"
   ]
  },
  {
   "cell_type": "code",
   "execution_count": null,
   "metadata": {
    "slideshow": {
     "slide_type": "slide"
    }
   },
   "outputs": [],
   "source": [
    "covid_BR = pd.read_csv(\"HIST_PAINEL_COVIDBR_18jul2020.csv\", low_memory=False)"
   ]
  },
  {
   "cell_type": "code",
   "execution_count": null,
   "metadata": {},
   "outputs": [],
   "source": [
    "covid_BR.head()"
   ]
  },
  {
   "cell_type": "markdown",
   "metadata": {
    "slideshow": {
     "slide_type": "slide"
    }
   },
   "source": [
    "## Gráfico de Linhas\n",
    "\n",
    "* O gráfico de linhas é formado por pontos no plano a partir de duas variáveis e, em seguida, estes pontos são ligados por segmentos de retas.\n",
    "\n",
    "* Este é o gráfico padrão construído pelo método **plot**. Para construí-lo basta \"chamar\" o método **plot** sem argumentos adicionais."
   ]
  },
  {
   "cell_type": "code",
   "execution_count": null,
   "metadata": {
    "slideshow": {
     "slide_type": "slide"
    }
   },
   "outputs": [],
   "source": [
    "df_exemplo.plot()"
   ]
  },
  {
   "cell_type": "code",
   "execution_count": null,
   "metadata": {
    "slideshow": {
     "slide_type": "slide"
    }
   },
   "outputs": [],
   "source": [
    "covid_PB_casos_obitos = covid_PB[['casosAcumulados', 'obitosAcumulados']].sort_index()\n",
    "covid_PB_casos_obitos.plot()"
   ]
  },
  {
   "cell_type": "markdown",
   "metadata": {
    "slideshow": {
     "slide_type": "-"
    }
   },
   "source": [
    "**Obs.**: Note que houve uma sobreposição dos valores no eixo *x*."
   ]
  },
  {
   "cell_type": "markdown",
   "metadata": {
    "slideshow": {
     "slide_type": "slide"
    }
   },
   "source": [
    "* Se convertermos o *index* para data, isto será corrigido, pois se o tipo do dado for data, o pandas implementa o método **autofmt_xdate** que corrige a sobreposição:"
   ]
  },
  {
   "cell_type": "code",
   "execution_count": null,
   "metadata": {},
   "outputs": [],
   "source": [
    "covid_PB.index = pd.to_datetime(covid_PB.index)\n",
    "covid_PB_casos_obitos = covid_PB[['casosAcumulados', 'obitosAcumulados']].sort_index()\n",
    "covid_PB_casos_obitos.plot()"
   ]
  },
  {
   "cell_type": "code",
   "execution_count": null,
   "metadata": {
    "slideshow": {
     "slide_type": "slide"
    }
   },
   "outputs": [],
   "source": [
    "covid_regioes = pd.DataFrame()\n",
    "\n",
    "regioes = covid_BR.query('regiao != \"Brasil\"')['regiao'].drop_duplicates().array\n",
    "\n",
    "for regiao in regioes:\n",
    "    temp_series = covid_BR.set_index('data').query('regiao == @regiao')['obitosAcumulado'].groupby('data').sum()/2\n",
    "    #Obs.: Utilizamos @ na frente do nome da variável para utilizar o valor da variável no query.\n",
    "    temp_series.name = 'obitos_' + regiao\n",
    "    covid_regioes = pd.concat([covid_regioes, temp_series], axis=1)\n",
    "    \n",
    "covid_regioes.index = pd.to_datetime(covid_regioes.index)\n",
    "covid_regioes"
   ]
  },
  {
   "cell_type": "markdown",
   "metadata": {
    "slideshow": {
     "slide_type": "slide"
    }
   },
   "source": [
    "O argumento **figsize** permite inserir uma tupla para definir as dimensões horizontais e verticais, respectivamente, em polegadas."
   ]
  },
  {
   "cell_type": "code",
   "execution_count": null,
   "metadata": {
    "slideshow": {
     "slide_type": "-"
    }
   },
   "outputs": [],
   "source": [
    "covid_regioes.plot(figsize=(12,7))"
   ]
  },
  {
   "cell_type": "markdown",
   "metadata": {
    "slideshow": {
     "slide_type": "slide"
    }
   },
   "source": [
    "## Gráfico de Colunas\n",
    "\n",
    "* O gráfico de colunas é formado por uma coleção de colunas, com bases de mesmo comprimento, e igualmente espaçados. O eixo horizontal do gráfico consiste das diferentes categorias consideradas, e o eixo vertical é proporcional ao valor do dado."
   ]
  },
  {
   "cell_type": "markdown",
   "metadata": {
    "slideshow": {
     "slide_type": "slide"
    }
   },
   "source": [
    "* Podemos criar gráficos em colunas utilizando o argument *kind* do método **plot**. Assim, para criar um gráfico de colunas, basta utilizar **plot(kind = 'bar')**. \n",
    "\n",
    "* Também podemos criar estes gráficos utilizando o método **plot.bar()**. As duas formas são equivalentes."
   ]
  },
  {
   "cell_type": "code",
   "execution_count": null,
   "metadata": {
    "slideshow": {
     "slide_type": "slide"
    }
   },
   "outputs": [],
   "source": [
    "df_dict_series.plot(kind = 'bar')"
   ]
  },
  {
   "cell_type": "code",
   "execution_count": null,
   "metadata": {
    "slideshow": {
     "slide_type": "slide"
    }
   },
   "outputs": [],
   "source": [
    "df_dict_series.plot.bar()"
   ]
  },
  {
   "cell_type": "markdown",
   "metadata": {
    "slideshow": {
     "slide_type": "slide"
    }
   },
   "source": [
    "Também podemos \"empilhar\" as barras para cada *index* utilizando o argumento **stacked=True**:"
   ]
  },
  {
   "cell_type": "code",
   "execution_count": null,
   "metadata": {},
   "outputs": [],
   "source": [
    "df_dict_series.plot.bar(stacked=True)"
   ]
  },
  {
   "cell_type": "code",
   "execution_count": null,
   "metadata": {
    "slideshow": {
     "slide_type": "slide"
    }
   },
   "outputs": [],
   "source": [
    "covid_Regioes = covid_BR[['regiao','obitosNovos']].groupby('regiao').sum().query('regiao != \"Brasil\"')\n",
    "covid_Regioes.plot.bar()"
   ]
  },
  {
   "cell_type": "markdown",
   "metadata": {
    "slideshow": {
     "slide_type": "slide"
    }
   },
   "source": [
    "Vamos agora considerar os *óbitos* como **index**:"
   ]
  },
  {
   "cell_type": "code",
   "execution_count": null,
   "metadata": {
    "slideshow": {
     "slide_type": "-"
    }
   },
   "outputs": [],
   "source": [
    "covid_Regioes_casos_obitos = covid_BR[['regiao',\n",
    "                                       'obitosNovos']].groupby('regiao').sum().query('regiao != \"Brasil\"')/2\n",
    "covid_Regioes_casos_obitos.transpose().plot.bar()"
   ]
  },
  {
   "cell_type": "code",
   "execution_count": null,
   "metadata": {
    "slideshow": {
     "slide_type": "slide"
    }
   },
   "outputs": [],
   "source": [
    "covid_Regioes_casos_obitos.transpose().plot.bar(stacked=True)"
   ]
  },
  {
   "cell_type": "markdown",
   "metadata": {
    "slideshow": {
     "slide_type": "slide"
    }
   },
   "source": [
    "## Gráfico de Barras\n",
    "\n",
    "* O gráfico de barras é construído da mesma forma do gráfico em colunas, entretanto, muda-se a orientação. Neste caso, o eixo horizontal do gráfico é proporcional ao valor do dado, e o eixo vertical consiste das diferentes categorias consideradas."
   ]
  },
  {
   "cell_type": "markdown",
   "metadata": {
    "slideshow": {
     "slide_type": "slide"
    }
   },
   "source": [
    "* Para criar um gráfico de barras, basta utilizar **plot(kind = 'barh')**. \n",
    "\n",
    "* Também podemos criar estes gráficos utilizando o método **plot.barh()**. As duas formas são equivalentes."
   ]
  },
  {
   "cell_type": "code",
   "execution_count": null,
   "metadata": {
    "slideshow": {
     "slide_type": "slide"
    }
   },
   "outputs": [],
   "source": [
    "df_dict_series.plot(kind = 'barh')"
   ]
  },
  {
   "cell_type": "code",
   "execution_count": null,
   "metadata": {
    "slideshow": {
     "slide_type": "slide"
    }
   },
   "outputs": [],
   "source": [
    "df_dict_series.plot.barh()"
   ]
  },
  {
   "cell_type": "markdown",
   "metadata": {
    "slideshow": {
     "slide_type": "slide"
    }
   },
   "source": [
    "Também podemos \"empilhar\" as barras para cada índice utilizando o argumento **stacked=True**:"
   ]
  },
  {
   "cell_type": "code",
   "execution_count": null,
   "metadata": {},
   "outputs": [],
   "source": [
    "df_dict_series.plot.barh(stacked=True)"
   ]
  },
  {
   "cell_type": "code",
   "execution_count": null,
   "metadata": {
    "slideshow": {
     "slide_type": "slide"
    }
   },
   "outputs": [],
   "source": [
    "covid_Regioes = covid_BR[['regiao','obitosNovos']].groupby('regiao').sum().query('regiao != \"Brasil\"')/2\n",
    "covid_Regioes.plot.barh()"
   ]
  },
  {
   "cell_type": "markdown",
   "metadata": {
    "slideshow": {
     "slide_type": "slide"
    }
   },
   "source": [
    "Vamos agora considerar as *óbitos* como **index**:"
   ]
  },
  {
   "cell_type": "code",
   "execution_count": null,
   "metadata": {
    "slideshow": {
     "slide_type": "-"
    }
   },
   "outputs": [],
   "source": [
    "covid_Regioes_casos_obitos = covid_BR[['regiao',\n",
    "                                       'obitosNovos']].groupby('regiao').sum().query('regiao != \"Brasil\"')/2\n",
    "covid_Regioes_casos_obitos.transpose().plot.barh()"
   ]
  },
  {
   "cell_type": "code",
   "execution_count": null,
   "metadata": {
    "slideshow": {
     "slide_type": "slide"
    }
   },
   "outputs": [],
   "source": [
    "covid_Regioes_casos_obitos.transpose().plot.barh(stacked=True)"
   ]
  },
  {
   "cell_type": "markdown",
   "metadata": {
    "slideshow": {
     "slide_type": "slide"
    }
   },
   "source": [
    "## Gráfico de Setores\n",
    "\n",
    "* O gráfico de setores, que também é popularmente conhecido como **gráfico pizza**, é um gráfico em que um círculo é dividido em setores, onde cada setor representa uma categoria considerada pelo conjunto de dados, e os ângulos dos setores são proporcionais aos valores dos dados em cada categoria.\n"
   ]
  },
  {
   "cell_type": "markdown",
   "metadata": {
    "slideshow": {
     "slide_type": "slide"
    }
   },
   "source": [
    "* Podemos criar gráficos de setores utilizando o argument *kind* do método **plot**. Assim, para criar um gráfico de setores, basta utilizar **plot(kind = 'pie')**. \n",
    "\n",
    "* Também podemos criar estes gráficos utilizando o método **plot.pie()**. As duas formas são equivalentes.\n",
    "\n",
    "* Para este gráfico é conveniente utilizar o argumento *figsize* já que o tamanho padrão tende a ser muito pequeno.\n",
    "\n",
    "* Além disso, tipicamente é necessário acrescentar *subplots=True* para a criação de uma \"pizza\" para cada coluna numérica.\n",
    "\n",
    "* Em uma *Serie* do *pandas*, não é necessário o argumento *subplots=True*."
   ]
  },
  {
   "cell_type": "code",
   "execution_count": null,
   "metadata": {
    "slideshow": {
     "slide_type": "slide"
    }
   },
   "outputs": [],
   "source": [
    "df_dict_series.plot.pie(subplots=True,figsize=(22,7))"
   ]
  },
  {
   "cell_type": "markdown",
   "metadata": {
    "slideshow": {
     "slide_type": "slide"
    }
   },
   "source": [
    "* Aqui um gráfico acerca da mortalidade de COVID-19 através das diferentes regiões do Brasil."
   ]
  },
  {
   "cell_type": "code",
   "execution_count": null,
   "metadata": {
    "slideshow": {
     "slide_type": "-"
    }
   },
   "outputs": [],
   "source": [
    "covid_Regioes_casos_obitos.obitosNovos.plot.pie(figsize=(7,7))"
   ]
  },
  {
   "cell_type": "markdown",
   "metadata": {
    "slideshow": {
     "slide_type": "slide"
    }
   },
   "source": [
    "## Gráfico de Dispersão\n",
    "\n",
    "* O gráfico de dispersão são representações de dados de duas (ou mais) variáveis utilizando as coordenadas cartesianas para exibir valores de um conjunto de dados. Os dados são exibidos como uma coleção de pontos, cada um com o valor de uma variável determinando a posição no eixo horizontal e o valor da outra variável determinando a posição no eixo vertical. Quando há mais de duas variáveis, utilizam-se recursos adicionais como tamanhos dos pontos e/ou cores dos pontos.\n"
   ]
  },
  {
   "cell_type": "markdown",
   "metadata": {
    "slideshow": {
     "slide_type": "slide"
    }
   },
   "source": [
    "* Para criar um gráfico de dispersão, basta utilizar **plot(kind = 'scatter')**. \n",
    "\n",
    "* Também podemos criar estes gráficos utilizando o método **plot.scatter()**. As duas formas são equivalentes.\n",
    "\n",
    "* Neste caso, devemos incluir dois argumentos: **x** e **y**, representando a abscissa e a ordenada, respectivamente.\n",
    "\n",
    "* Para utilizar o *index* como eixo **x** é preciso que o *index* seja uma coluna, para tanto pode-se utilizar o método **reset_index()**.\n",
    "\n",
    "* Assim, como nos outros métodos, podemos utilizar o argumento **rot** para rotacionar os rótulos do eixo **x**."
   ]
  },
  {
   "cell_type": "code",
   "execution_count": null,
   "metadata": {
    "slideshow": {
     "slide_type": "slide"
    }
   },
   "outputs": [],
   "source": [
    "df_exemplo.reset_index().plot.scatter(x = 'index', y ='coluna_1' , rot = 45)"
   ]
  },
  {
   "cell_type": "markdown",
   "metadata": {
    "slideshow": {
     "slide_type": "slide"
    }
   },
   "source": [
    "Podemos utilizar o argumento **s** para inserir o *tamanho* como uma variável gráfica (lembrando que o tamanho deve ser positivo):"
   ]
  },
  {
   "cell_type": "code",
   "execution_count": null,
   "metadata": {},
   "outputs": [],
   "source": [
    "df_exemplo.reset_index().plot.scatter(x = 'index', y = 'coluna_1', rot = 45, s = np.abs(df_exemplo['coluna_2'])*100)"
   ]
  },
  {
   "cell_type": "markdown",
   "metadata": {
    "slideshow": {
     "slide_type": "slide"
    }
   },
   "source": [
    "Podemos utilizar o argumento **c** para definir uma variável inserir a *cor* como uma variável gráfica:"
   ]
  },
  {
   "cell_type": "code",
   "execution_count": null,
   "metadata": {},
   "outputs": [],
   "source": [
    "covid_PB_casos_obitos = covid_PB[['obitosNovos', 'casosNovos']].sort_index()"
   ]
  },
  {
   "cell_type": "code",
   "execution_count": null,
   "metadata": {
    "slideshow": {
     "slide_type": "-"
    }
   },
   "outputs": [],
   "source": [
    "covid_PB_casos_obitos.reset_index().plot.scatter(x = 'data', y = 'casosNovos', c = 'obitosNovos')"
   ]
  },
  {
   "cell_type": "markdown",
   "metadata": {
    "slideshow": {
     "slide_type": "slide"
    }
   },
   "source": [
    "O tamanho e cores também podem ser fixados para fins estéticos:"
   ]
  },
  {
   "cell_type": "code",
   "execution_count": null,
   "metadata": {},
   "outputs": [],
   "source": [
    "df_exemplo.reset_index().plot.scatter(x = 'index', y = 'coluna_1', rot = 45, c = 'black', s = 100)"
   ]
  },
  {
   "cell_type": "markdown",
   "metadata": {
    "slideshow": {
     "slide_type": "slide"
    }
   },
   "source": [
    "* Para criar múltiplos gráficos de dispersão sobrepostos, utilizamos o argumento **ax**.\n",
    "\n",
    "* Para definir o rótulo do eixo **y** utilizamos: ax.set_ylabel(\"Valor\").\n",
    "\n",
    "* Para definir o rótulo do eixo **x** utilizamos: ax.set_xlabel(\"Data\")."
   ]
  },
  {
   "cell_type": "code",
   "execution_count": null,
   "metadata": {
    "slideshow": {
     "slide_type": "slide"
    }
   },
   "outputs": [],
   "source": [
    "ax = df_exemplo.reset_index().plot.scatter(x = 'index', y = 'coluna_1', label = 'coluna_1', \n",
    "                                           color = 'black', rot = 45)\n",
    "df_exemplo.reset_index().plot.scatter(x = 'index', y = 'coluna_2', label = 'coluna_2', color = 'red',\n",
    "                                      rot = 45, ax = ax)\n",
    "\n",
    "ax.set_ylabel(\"Valor\")\n",
    "ax.set_xlabel(\"Data\")"
   ]
  },
  {
   "cell_type": "markdown",
   "metadata": {
    "slideshow": {
     "slide_type": "slide"
    }
   },
   "source": [
    "Para sobrepor mais de dois gráficos, basta repetir o método anterior mais de uma vez:"
   ]
  },
  {
   "cell_type": "code",
   "execution_count": null,
   "metadata": {},
   "outputs": [],
   "source": [
    "ax = df_exemplo.reset_index().plot.scatter(x = 'index', y = 'coluna_1', label = 'coluna_1', \n",
    "                                           color = 'black', rot = 45)\n",
    "df_exemplo.reset_index().plot.scatter(x = 'index', y = 'coluna_2', label = 'coluna_2', color = 'red',\n",
    "                                      rot = 45, ax = ax)\n",
    "df_exemplo.reset_index().plot.scatter(x = 'index', y = 'coluna_3', label = 'coluna_3', color = 'green',\n",
    "                                      rot = 45, ax = ax)\n",
    "\n",
    "ax.set_ylabel(\"Valor\")\n",
    "ax.set_xlabel(\"Data\")"
   ]
  },
  {
   "cell_type": "markdown",
   "metadata": {
    "slideshow": {
     "slide_type": "slide"
    }
   },
   "source": [
    "## Histograma\n",
    "\n",
    "* O histograma é formado por uma justaposição de retângulos de bases com o mesmo comprimento. O comprimento da base é justamente a amplitude do intervalo e a altura do retângulo é dada pela frequência absoluta do intervalo.\n",
    "* O histograma é a representação gráfica de *distribuição de frequência*.\n"
   ]
  },
  {
   "cell_type": "markdown",
   "metadata": {
    "slideshow": {
     "slide_type": "slide"
    }
   },
   "source": [
    "* Para criar um histograma, basta utilizar **plot(kind = 'hist')**. \n",
    "\n",
    "* Também podemos criar histogramas utilizando o método **plot.hist()**. As duas formas são equivalentes.\n",
    "\n",
    "* Um parâmetro comumente utilizado é **alpha** que define a transparência dos histogramas e é dado por um número entre 0 e 1.\n",
    "\n",
    "* Outro parâmetro comumente utilizado é **bins** que determina o número de intervalos a serem considerados.\n",
    "\n",
    "* Se quisermos que os histogramas sejam \"plotados\" separadamente, utilizamos o método **hist()** diretamente."
   ]
  },
  {
   "cell_type": "code",
   "execution_count": null,
   "metadata": {
    "slideshow": {
     "slide_type": "notes"
    }
   },
   "outputs": [],
   "source": [
    "covid_BR_regioes = covid_BR.copy().set_index('data').query('regiao != \"Brasil\"')\n",
    "covid_BR_regioes = covid_BR_regioes[['regiao','obitosNovos']].groupby(['regiao','data']).sum()/2\n",
    "\n",
    "covid_BR_reg = pd.DataFrame()\n",
    "\n",
    "for regiao in covid_BR_regioes.index.get_level_values(0).drop_duplicates():\n",
    "    covid_BR_reg = pd.concat([covid_BR_reg, covid_BR_regioes.loc[regiao]], \n",
    "                             axis=1).rename({'obitosNovos':'obitos_'+regiao},axis=1)\n",
    "    \n",
    "covid_BR_reg"
   ]
  },
  {
   "cell_type": "code",
   "execution_count": null,
   "metadata": {
    "slideshow": {
     "slide_type": "slide"
    }
   },
   "outputs": [],
   "source": [
    "covid_BR_NE = covid_BR.set_index('data').query('regiao == \"Nordeste\"')['obitosNovos'].groupby('data').sum()/2\n",
    "covid_BR_NE.name = 'obitos_NE'\n",
    "\n",
    "covid_BR_SE = covid_BR.set_index('data').query('regiao == \"Sudeste\"')['obitosNovos'].groupby('data').sum()/2\n",
    "covid_BR_SE.name = 'obitos_SE'\n",
    "\n",
    "covid_BR_NE_SE = pd.concat([covid_BR_NE,covid_BR_SE], axis=1)\n",
    "covid_BR_NE_SE"
   ]
  },
  {
   "cell_type": "code",
   "execution_count": null,
   "metadata": {
    "slideshow": {
     "slide_type": "notes"
    }
   },
   "outputs": [],
   "source": [
    "covid_BR_reg.hist(figsize = (10,8), bins=30)"
   ]
  },
  {
   "cell_type": "code",
   "execution_count": null,
   "metadata": {
    "slideshow": {
     "slide_type": "slide"
    }
   },
   "outputs": [],
   "source": [
    "covid_BR_NE_SE.hist(figsize = (14,7))"
   ]
  },
  {
   "cell_type": "code",
   "execution_count": null,
   "metadata": {
    "slideshow": {
     "slide_type": "slide"
    }
   },
   "outputs": [],
   "source": [
    "covid_BR_NE_SE.plot.hist(bins=30, figsize = (10,8))"
   ]
  },
  {
   "cell_type": "code",
   "execution_count": null,
   "metadata": {
    "slideshow": {
     "slide_type": "slide"
    }
   },
   "outputs": [],
   "source": [
    "covid_BR_NE_SE.plot.hist(alpha=0.5, bins=30, figsize = (10,8))"
   ]
  },
  {
   "cell_type": "code",
   "execution_count": null,
   "metadata": {
    "slideshow": {
     "slide_type": "notes"
    }
   },
   "outputs": [],
   "source": [
    "covid_BR_reg.plot.hist(alpha=0.5, bins=30)"
   ]
  },
  {
   "cell_type": "code",
   "execution_count": null,
   "metadata": {
    "slideshow": {
     "slide_type": "notes"
    }
   },
   "outputs": [],
   "source": [
    "covid_BR_reg.plot.hist(bins=30)"
   ]
  },
  {
   "cell_type": "markdown",
   "metadata": {
    "slideshow": {
     "slide_type": "slide"
    }
   },
   "source": [
    "## BoxPlot\n",
    "\n",
    "* O boxplot representa a variação dos dados de uma variável, por meio de uma caixa, onde são apresentados os *quartis*, e retas apresentando os limites inferior e superior dos dados.\n",
    "* Os valores discrepantes ou *outliers* são plotados como pontos individuais.\n"
   ]
  },
  {
   "cell_type": "markdown",
   "metadata": {
    "slideshow": {
     "slide_type": "slide"
    }
   },
   "source": [
    "* Para criar um BoxPlot, basta utilizar **plot(kind = 'box')**. \n",
    "\n",
    "* Também podemos criar BoxPlots utilizando o método **plot.box()**. As duas formas são equivalentes.\n",
    "\n",
    "* O argumento **vert=False** faz com que os BoxPlots fiquem horizontais."
   ]
  },
  {
   "cell_type": "code",
   "execution_count": null,
   "metadata": {
    "slideshow": {
     "slide_type": "slide"
    }
   },
   "outputs": [],
   "source": [
    "df_exemplo.plot.box(figsize=(10,10))"
   ]
  },
  {
   "cell_type": "code",
   "execution_count": null,
   "metadata": {
    "slideshow": {
     "slide_type": "notes"
    }
   },
   "outputs": [],
   "source": [
    "covid_regioes_obitosDiarios = pd.DataFrame()\n",
    "\n",
    "regioes = covid_BR.query('regiao != \"Brasil\"')['regiao'].drop_duplicates().array\n",
    "\n",
    "for regiao in regioes:\n",
    "    temp_series = covid_BR.set_index('data').query('regiao == @regiao')['obitosNovos'].groupby('data').sum()/2\n",
    "    #Obs.: Utilizamos @ na frente do nome da variável para utilizar o valor da variável no query.\n",
    "    temp_series.name = 'obitos_' + regiao\n",
    "    covid_regioes_obitosDiarios = pd.concat([covid_regioes_obitosDiarios, temp_series], axis=1)\n",
    "    \n",
    "covid_regioes_obitosDiarios.index = pd.to_datetime(covid_regioes_obitosDiarios.index)\n",
    "covid_regioes_obitosDiarios.tail()\n"
   ]
  },
  {
   "cell_type": "code",
   "execution_count": null,
   "metadata": {
    "slideshow": {
     "slide_type": "slide"
    }
   },
   "outputs": [],
   "source": [
    "covid_regioes_obitosDiarios.plot.box(figsize=(10,10))"
   ]
  },
  {
   "cell_type": "code",
   "execution_count": null,
   "metadata": {
    "slideshow": {
     "slide_type": "slide"
    }
   },
   "outputs": [],
   "source": [
    "covid_regioes_obitosDiarios.plot.box(figsize=(10,10), vert=False)"
   ]
  }
 ],
 "metadata": {
  "celltoolbar": "Slideshow",
  "kernelspec": {
   "display_name": "Python 3",
   "language": "python",
   "name": "python3"
  },
  "language_info": {
   "codemirror_mode": {
    "name": "ipython",
    "version": 3
   },
   "file_extension": ".py",
   "mimetype": "text/x-python",
   "name": "python",
   "nbconvert_exporter": "python",
   "pygments_lexer": "ipython3",
   "version": "3.7.6"
  },
  "latex_metadata": {
   "affiliation": "Departamento de Computação Científica / UFPB",
   "author": "Gustavo Oliveira e Andréa Rocha",
   "date": "Julho de 2020",
   "title": "Aula 7A - Visualização Gráfica de Dados"
  },
  "rise": {
   "enable_chalkboard": true,
   "footer": "UFPB - CI - DCC",
   "header": "Gustavo Oliveira / Andrea Rocha",
   "theme": "sky"
  }
 },
 "nbformat": 4,
 "nbformat_minor": 4
}
